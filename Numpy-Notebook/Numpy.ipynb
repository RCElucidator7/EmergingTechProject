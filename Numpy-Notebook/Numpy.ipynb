{
 "cells": [
  {
   "cell_type": "markdown",
   "metadata": {},
   "source": [
    "<img src=\"https://upload.wikimedia.org/wikipedia/commons/thumb/1/1a/NumPy_logo.svg/1200px-NumPy_logo.svg.png\" width=\"200px\" height=\"100px\">\n",
    "\n",
    "# <b>NumPy Package Notebook</b>\n",
    "\n",
    "Numpy is the core library for scientific computing in Python. It provides a high-performance multidimensional array object, and tools for working with these arrays. Its main object is the homogeneous multidimensional array, a table of values, all of the same type, indexed by a tuple of positive integers. [1]\n"
   ]
  },
  {
   "cell_type": "markdown",
   "metadata": {},
   "source": [
    "## Importing Numpy\n",
    "\n",
    "The import for the numpy package which will be used throughout the notebook"
   ]
  },
  {
   "cell_type": "code",
   "execution_count": 1,
   "metadata": {},
   "outputs": [],
   "source": [
    "#Import numpy [2]\n",
    "import numpy as np"
   ]
  },
  {
   "cell_type": "markdown",
   "metadata": {},
   "source": [
    "## Arrays\n",
    "\n",
    "A numpy array is a grid of values, all of the same type, and is indexed by a tuple of nonnegative integers. The number of dimensions is the rank of the array; the shape of an array is a tuple of integers giving the size of the array along each dimension."
   ]
  },
  {
   "cell_type": "code",
   "execution_count": 2,
   "metadata": {},
   "outputs": [
    {
     "data": {
      "text/plain": [
       "array([1, 2, 3, 4, 5])"
      ]
     },
     "execution_count": 2,
     "metadata": {},
     "output_type": "execute_result"
    }
   ],
   "source": [
    "#Array creation:\n",
    "\n",
    "#Assign \"a\" a value of a numpy array\n",
    "a = np.array([1,2,3,4,5])\n",
    "a"
   ]
  },
  {
   "cell_type": "code",
   "execution_count": 5,
   "metadata": {},
   "outputs": [
    {
     "data": {
      "text/plain": [
       "dtype('int32')"
      ]
     },
     "execution_count": 5,
     "metadata": {},
     "output_type": "execute_result"
    }
   ],
   "source": [
    "#Describe the data type of the array\n",
    "a.dtype"
   ]
  },
  {
   "cell_type": "code",
   "execution_count": 6,
   "metadata": {},
   "outputs": [
    {
     "data": {
      "text/plain": [
       "dtype('float64')"
      ]
     },
     "execution_count": 6,
     "metadata": {},
     "output_type": "execute_result"
    }
   ],
   "source": [
    "#Assign \"b\" a value of a numpy array, populated with decimal\n",
    "b = np.array([1.2, 3.4, 5.6, 7.8, 9.11])\n",
    "#Describe the data type of the array\n",
    "b.dtype"
   ]
  },
  {
   "cell_type": "code",
   "execution_count": 7,
   "metadata": {},
   "outputs": [
    {
     "name": "stdout",
     "output_type": "stream",
     "text": [
      "[1 2 3 4 5]\n",
      "[1.2  3.4  5.6  7.8  9.11]\n"
     ]
    }
   ],
   "source": [
    "#To print the contents of the array, you can display them with \"print\"\n",
    "print(a)\n",
    "print(b)"
   ]
  },
  {
   "cell_type": "markdown",
   "metadata": {},
   "source": [
    "## Permutations\n",
    "\n",
    "A permutation is the act of changing the order of elements arranged in a particular order, as abc into acb, bac, etc. The numpy package has two methods for permutations: Shuffle and Permutation. \n",
    "\n",
    "The shuffle method modifies an already given array by shuffling its contents. It only shuffles the array along the first axis of a multi-dimensional array. The order of sub-arrays is changed but their contents remains the same.\n",
    "\n",
    "(Shuffles the given array)\n",
    "(Permutation creates a copy, shuffles it and outputs that shuffled array)"
   ]
  },
  {
   "cell_type": "code",
   "execution_count": 7,
   "metadata": {},
   "outputs": [
    {
     "data": {
      "text/plain": [
       "array([5, 4, 3, 2, 1])"
      ]
     },
     "execution_count": 7,
     "metadata": {},
     "output_type": "execute_result"
    }
   ],
   "source": [
    "# Import numpy [2]\n",
    "import numpy as np\n",
    "\n",
    "# Initalize an array using numpy.array and assign it to a variable\n",
    "ara = np.array([5, 4, 3, 2, 1])\n",
    "ara"
   ]
  },
  {
   "cell_type": "code",
   "execution_count": 10,
   "metadata": {},
   "outputs": [
    {
     "data": {
      "text/plain": [
       "array([5, 2, 3, 1, 4])"
      ]
     },
     "execution_count": 10,
     "metadata": {},
     "output_type": "execute_result"
    }
   ],
   "source": [
    "# Then we call the .shuffle method on our variable\n",
    "np.random.shuffle(ara)\n",
    "ara"
   ]
  },
  {
   "cell_type": "markdown",
   "metadata": {},
   "source": [
    "The permutation method works a little differently to the shuffle method. Rather than change the values in the given array, it copies its contents, shuffles that copy and outputs the result of the shuffled array."
   ]
  },
  {
   "cell_type": "code",
   "execution_count": 12,
   "metadata": {},
   "outputs": [
    {
     "data": {
      "text/plain": [
       "array([10,  9,  8,  7,  6,  5,  4,  3,  2,  1])"
      ]
     },
     "execution_count": 12,
     "metadata": {},
     "output_type": "execute_result"
    }
   ],
   "source": [
    "# Initalize an array using numpy.array and assign it to a variable\n",
    "ara2 = np.array([10, 9, 8, 7, 6, 5, 4, 3, 2, 1])\n",
    "ara2"
   ]
  },
  {
   "cell_type": "code",
   "execution_count": 13,
   "metadata": {},
   "outputs": [
    {
     "data": {
      "text/plain": [
       "array([ 1,  2,  6,  3,  9, 10,  8,  7,  5,  4])"
      ]
     },
     "execution_count": 13,
     "metadata": {},
     "output_type": "execute_result"
    }
   ],
   "source": [
    "# Now if we call this permutatuion method, we should get a shuffled array that doesn't alter our initial array\n",
    "np.random.permutation(ara2)"
   ]
  },
  {
   "cell_type": "code",
   "execution_count": 14,
   "metadata": {},
   "outputs": [
    {
     "data": {
      "text/plain": [
       "array([10,  9,  8,  7,  6,  5,  4,  3,  2,  1])"
      ]
     },
     "execution_count": 14,
     "metadata": {},
     "output_type": "execute_result"
    }
   ],
   "source": [
    "# And to verify the initial array wasnt modified\n",
    "ara2"
   ]
  },
  {
   "cell_type": "markdown",
   "metadata": {},
   "source": [
    "## NumPy Random\n",
    "\n",
    "Numpy random is used to generate random sampling. An important part of any simulation is the ability to generate random numbers. For this purpose, NumPy provides various routines in the submodule random. It uses a particular algorithm, called the Mersenne Twister, to generate pseudorandom numbers.\n",
    "\n",
    "### The Mersenne Twister\n",
    "The Mersenne Twister is a pseudorandom number generator (PRNG), that was developed in 1997 by Makoto Matsumoto and Takuji Nishimura. The name derives from the fact that it uses a period which is a Mersenne prime"
   ]
  },
  {
   "cell_type": "code",
   "execution_count": 4,
   "metadata": {},
   "outputs": [
    {
     "data": {
      "text/plain": [
       "array([[0.83971875, 0.92214767],\n",
       "       [0.67113951, 0.08844794],\n",
       "       [0.14561268, 0.82956272]])"
      ]
     },
     "execution_count": 4,
     "metadata": {},
     "output_type": "execute_result"
    }
   ],
   "source": [
    "#Import the numpy package [2]\n",
    "import numpy as np\n",
    "\n",
    "#Creates an array of the given shape and populate it with random samples from a uniform distribution\n",
    "np.random.rand(3,2)"
   ]
  },
  {
   "cell_type": "markdown",
   "metadata": {},
   "source": []
  },
  {
   "cell_type": "markdown",
   "metadata": {},
   "source": [
    "## Random_Sample\n",
    "\n",
    "The random_sample method returns random floats in the half-open interval [0.0, 1.0].\n",
    "\n",
    "Results are from the “continuous uniform” distribution over the stated interval."
   ]
  },
  {
   "cell_type": "code",
   "execution_count": 9,
   "metadata": {},
   "outputs": [
    {
     "data": {
      "text/plain": [
       "0.3773876615574254"
      ]
     },
     "execution_count": 9,
     "metadata": {},
     "output_type": "execute_result"
    }
   ],
   "source": [
    "# Import the numpy package\n",
    "import numpy as np\n",
    "# Generates a random float between 0.0 and 1.0\n",
    "np.random.random_sample()"
   ]
  },
  {
   "cell_type": "code",
   "execution_count": 8,
   "metadata": {},
   "outputs": [
    {
     "data": {
      "text/plain": [
       "array([0.31019309, 0.00210643, 0.55935572, 0.99123498, 0.83300803,\n",
       "       0.08127137, 0.06930816])"
      ]
     },
     "execution_count": 8,
     "metadata": {},
     "output_type": "execute_result"
    }
   ],
   "source": [
    "#Generates an array of random floats between 0.0 and 1.0 (Size of the array is specified)\n",
    "np.random.random_sample((7))"
   ]
  },
  {
   "cell_type": "code",
   "execution_count": 11,
   "metadata": {},
   "outputs": [
    {
     "data": {
      "text/plain": [
       "array([[0.05413229, 0.93261996, 0.83504326],\n",
       "       [0.95865652, 0.68094945, 0.50834524],\n",
       "       [0.45065405, 0.77982811, 0.24492024]])"
      ]
     },
     "execution_count": 11,
     "metadata": {},
     "output_type": "execute_result"
    }
   ],
   "source": [
    "#Generates a 2D array of random floats between 0.0 and 1.0\n",
    "np.random.random_sample((3, 3))"
   ]
  },
  {
   "cell_type": "code",
   "execution_count": 12,
   "metadata": {},
   "outputs": [
    {
     "data": {
      "text/plain": [
       "array([[4.3085896 , 0.92491014, 1.74572587],\n",
       "       [0.83053795, 0.99666731, 3.03202422],\n",
       "       [4.37543031, 3.94218208, 0.42905712]])"
      ]
     },
     "execution_count": 12,
     "metadata": {},
     "output_type": "execute_result"
    }
   ],
   "source": [
    "#Generates a 2D array of random floats between 0.0 and 5.0\n",
    "5 * np.random.random_sample((3, 3))"
   ]
  },
  {
   "cell_type": "markdown",
   "metadata": {},
   "source": [
    "## Graphing the Data\n",
    "To graph this data, we must import the matplotlib package. MatPlotLib is a library for plotting data to a graph, using the numpy data.\n",
    "\n",
    "## Importing matplotlib and examples\n"
   ]
  },
  {
   "cell_type": "code",
   "execution_count": 6,
   "metadata": {},
   "outputs": [
    {
     "data": {
      "image/png": "[encoded data removed]",
      "text/plain": [
       "<Figure size 432x288 with 1 Axes>"
      ]
     },
     "metadata": {
      "needs_background": "light"
     },
     "output_type": "display_data"
    }
   ],
   "source": [
    "# Importing the matplotlib and numpy packages [2]\n",
    "\n",
    "# Lineplot Example\n",
    "import matplotlib.pyplot as plt\n",
    "import numpy as np\n",
    "# Assigning a with an array of evenly spaced numbers over a specified interval.\n",
    "a = np.linspace(0, 20, 50)\n",
    "# Assigning b the exponential of all elements in the input array.\n",
    "b = np.exp(-a)\n",
    "# Ploting a - b\n",
    "plt.plot(a, b)\n",
    "# Show the graph\n",
    "plt.show()"
   ]
  },
  {
   "cell_type": "code",
   "execution_count": 8,
   "metadata": {},
   "outputs": [
    {
     "data": {
      "image/png": "[encoded data removed]",
      "text/plain": [
       "<Figure size 432x288 with 1 Axes>"
      ]
     },
     "metadata": {
      "needs_background": "light"
     },
     "output_type": "display_data"
    }
   ],
   "source": [
    "# Creates an array of random numbers between 0 and the value passed in (300) and assigns it to c\n",
    "c = np.random.rand(300)\n",
    "# Plot c on a histogram\n",
    "plt.hist(c)\n",
    "# Show the graph\n",
    "plt.show()"
   ]
  },
  {
   "cell_type": "code",
   "execution_count": 11,
   "metadata": {},
   "outputs": [
    {
     "data": {
      "image/png": "[encoded data removed]",
      "text/plain": [
       "<Figure size 432x288 with 1 Axes>"
      ]
     },
     "metadata": {
      "needs_background": "light"
     },
     "output_type": "display_data"
    }
   ],
   "source": [
    "# Creates an array of random numbers between 0 and the value passed in (150) and assigns it to d and e\n",
    "d = np.random.rand(150)\n",
    "e = np.random.rand(150)\n",
    "# Plot d and e on a Scatter Graph\n",
    "plt.scatter(d, e)\n",
    "# Show the graph\n",
    "plt.show()"
   ]
  },
  {
   "cell_type": "markdown",
   "metadata": {},
   "source": [
    "## Distributions\n",
    "\n",
    "Distributions are a class of linear functionals that map a set of test functions (conventional and well-behaved functions) into the set of real numbers. The numpy package has a number of distributions in its library, I will give an example of 5 differnet distributions. [3]"
   ]
  },
  {
   "cell_type": "markdown",
   "metadata": {},
   "source": [
    "### Normal Distribution\n",
    "\n",
    "The Normal distribution represents the behavior of most of the situations in the universe.The large sum of (small) random variables often turns out to be normally distributed, contributing to its widespread application. Any distribution is known as Normal distribution if it has the following characteristics:\n",
    "\n",
    "* The mean, median and mode of the distribution coincide.\n",
    "* The curve of the distribution is bell-shaped and symmetrical about the line x=μ.\n",
    "* The total area under the curve is 1.\n",
    "* Exactly half of the values are to the left of the center and the other half to the right.\n"
   ]
  },
  {
   "cell_type": "markdown",
   "metadata": {},
   "source": [
    "The probability density of the normal distribution is:\n",
    "\n",
    "  <img src=\"https://docs.scipy.org/doc/numpy-1.15.1/_images/math/192d06ecdfd9d671a4ab4dd942ddf8e20173e111.svg\">\n",
    "\n",
    "where\n",
    "\n",
    "* μ is the mean or expectation of the distribution (and also its median and mode),\n",
    "* σ sigma is the standard deviation, and\n",
    "* σ<sup>2</sup> is the variance."
   ]
  },
  {
   "cell_type": "code",
   "execution_count": 3,
   "metadata": {},
   "outputs": [],
   "source": [
    "# Import the numpy and matplotlib package\n",
    "import numpy as np\n",
    "import matplotlib.pyplot as plt\n",
    "\n",
    "#Initalise the mean (mu = μ) and the standard deviation (σ)\n",
    "mu, sigma = 0, 0.1\n",
    "s = np.random.normal(mu, sigma, 1000)"
   ]
  },
  {
   "cell_type": "code",
   "execution_count": 4,
   "metadata": {},
   "outputs": [
    {
     "data": {
      "image/png": "[encoded data removed]",
      "text/plain": [
       "<Figure size 432x288 with 1 Axes>"
      ]
     },
     "metadata": {
      "needs_background": "light"
     },
     "output_type": "display_data"
    }
   ],
   "source": [
    "# Displays the histogram of the samples, along with the probability density function\n",
    "count, bins, ignored = plt.hist(s, 30, density=True)\n",
    "plt.plot(bins, 1/(sigma * np.sqrt(2 * np.pi)) *\n",
    "         np.exp( - (bins - mu)**2 / (2 * sigma**2) ),\n",
    "         linewidth=2, color='r')\n",
    "plt.show()"
   ]
  },
  {
   "cell_type": "markdown",
   "metadata": {},
   "source": [
    "### Poisson Distribution\n",
    "\n",
    "The Poisson Distribution is applicable in situations where events occur at random points of time and space wherein our interest lies only in the number of occurrences of the event.\n",
    "\n",
    "A distribution is called Poisson distribution when the following assumptions are valid:\n",
    "\n",
    "   * Any successful event should not influence the outcome of another successful event.\n",
    "   * The probability of success over a short interval must equal the probability of success over a longer interval.\n",
    "   * The probability of success in an interval approaches zero as the interval becomes smaller.\n",
    "\n",
    "For events with an expected separation &#955; the Poisson distribution f(k; &#955;) describes the probability of k events occurring within the observed interval &#955;.\n",
    "\n",
    "  \n",
    "  <img src=\"https://docs.scipy.org/doc/numpy-1.15.1/_images/math/5530e3b933171293a6e472ceb20c8b6e13907694.svg\">\n",
    "\n",
    "        \n",
    "Adapted from: https://stattrek.com/probability-distributions/poisson.aspx"
   ]
  },
  {
   "cell_type": "code",
   "execution_count": 9,
   "metadata": {},
   "outputs": [],
   "source": [
    "# Import the numpy and matplotlib package\n",
    "import numpy as np\n",
    "import matplotlib.pyplot as plt\n",
    "\n",
    "# Draw sample from the distribution using poisson method \n",
    "s = np.random.poisson(5, 10000)"
   ]
  },
  {
   "cell_type": "code",
   "execution_count": 10,
   "metadata": {},
   "outputs": [
    {
     "data": {
      "image/png": "[encoded data removed]",
      "text/plain": [
       "<Figure size 432x288 with 1 Axes>"
      ]
     },
     "metadata": {
      "needs_background": "light"
     },
     "output_type": "display_data"
    }
   ],
   "source": [
    "# Plot and show on a histogram graph\n",
    "count, bins, ignored = plt.hist(s, 14, density=True)\n",
    "plt.show()"
   ]
  },
  {
   "cell_type": "markdown",
   "metadata": {},
   "source": [
    "### Exponential distribution\n",
    "\n",
    "The Exponential distribution is widely used for survival analysis. From the expected life of a machine to the expected life of a human, exponential distribution successfully delivers the result.\n",
    "\n",
    "Its probability density function is:\n",
    "\n",
    "   <img src=\"https://docs.scipy.org/doc/numpy-1.15.1/_images/math/8840abeb74cea46293b944971a4cac7f0db924f6.svg\">\n",
    "\n",
    "\n",
    "For x > 0 and 0 elsewhere. β is the scale parameter, which is the inverse of the rate parameter &#955; = 1/β. The rate parameter is an alternative, widely used parameterization of the exponential distribution "
   ]
  },
  {
   "cell_type": "code",
   "execution_count": 1,
   "metadata": {},
   "outputs": [],
   "source": [
    "# Import the numpy and matplotlib package\n",
    "import numpy as np\n",
    "import matplotlib.pyplot as plt\n",
    "\n",
    "# Draw sample from the distribution using exponential method \n",
    "s = np.random.exponential(5, 10000)"
   ]
  },
  {
   "cell_type": "code",
   "execution_count": 2,
   "metadata": {},
   "outputs": [
    {
     "data": {
      "image/png": "[encoded data removed]",
      "text/plain": [
       "<Figure size 432x288 with 1 Axes>"
      ]
     },
     "metadata": {
      "needs_background": "light"
     },
     "output_type": "display_data"
    }
   ],
   "source": [
    "# Plot and show on a histogram graph\n",
    "count, bins, ignored = plt.hist(s, 14, density=True)\n",
    "plt.show()"
   ]
  },
  {
   "cell_type": "markdown",
   "metadata": {},
   "source": [
    "### Binomial Distribution\n",
    "\n",
    "Binomial Distribution occurs where only two outcomes are possible, such as success or failure, gain or loss, win or lose and where the probability of success and failure is same for all the trials.\n",
    "\n",
    "The probability density for the binomial distribution is:\n",
    "    \n",
    "   <img src=\"https://docs.scipy.org/doc/numpy-1.15.1/_images/math/88748cdbc52cb4bbe3e4f58274c7ae9f731cd20a.svg\">\n",
    "   \n",
    "Where n is the number of trials, p is the probability of success, and N is the number of successes.\n",
    "   "
   ]
  },
  {
   "cell_type": "code",
   "execution_count": 6,
   "metadata": {},
   "outputs": [],
   "source": [
    "# Import the numpy and matplotlib package\n",
    "import numpy as np\n",
    "import matplotlib.pyplot as plt\n",
    "\n",
    "\n",
    "# Draw sample from the distribution using binomial method \n",
    "n, p = 10, .5  # number of trials, probability of each trial\n",
    "# Result of flipping a coin 10 times, tested 1000 times.\n",
    "\n",
    "# Draw sample from the distribution using binomial method \n",
    "s = np.random.binomial(n, p, 1000)"
   ]
  },
  {
   "cell_type": "code",
   "execution_count": 7,
   "metadata": {},
   "outputs": [
    {
     "data": {
      "image/png": "[encoded data removed]",
      "text/plain": [
       "<Figure size 432x288 with 1 Axes>"
      ]
     },
     "metadata": {
      "needs_background": "light"
     },
     "output_type": "display_data"
    }
   ],
   "source": [
    "# Plot and show on a histogram graph\n",
    "count, bins, ignored = plt.hist(s, 14, density=True)\n",
    "plt.show()"
   ]
  },
  {
   "cell_type": "markdown",
   "metadata": {},
   "source": [
    "## References\n",
    "\n",
    "<ul>\n",
    "    <li><a href=\"http://cs231n.github.io/python-numpy-tutorial/\">Numpy Tutorial</a> [1]</li>\n",
    "    <li><a href=\"https://docs.scipy.org/doc/numpy-1.15.1/reference/routines.random.html#distributions\">Numpy Package Docs</a> [2]</li>\n",
    "    <li><a href=\"https://www.analyticsvidhya.com/blog/2017/09/6-probability-distributions-data-science/\">Probability Distributions</a> [3]</li>\n",
    "</ul>"
   ]
  }
 ],
 "metadata": {
  "kernelspec": {
   "display_name": "Python 3",
   "language": "python",
   "name": "python3"
  },
  "language_info": {
   "codemirror_mode": {
    "name": "ipython",
    "version": 3
   },
   "file_extension": ".py",
   "mimetype": "text/x-python",
   "name": "python",
   "nbconvert_exporter": "python",
   "pygments_lexer": "ipython3",
   "version": "3.6.7"
  }
 },
 "nbformat": 4,
 "nbformat_minor": 2
}
