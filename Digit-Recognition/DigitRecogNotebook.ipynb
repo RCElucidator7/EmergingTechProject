{
 "cells": [
  {
   "cell_type": "markdown",
   "metadata": {},
   "source": [
    "# <b>Digital Recognition Notebook</b>\n",
    "\n",
    "In this notebook we will look into digit recognition with the keras plug-in. We will use the MNIST data set to first train the neural network and then we will input out own image to see if it will recognise that. With this we hope that it will recognise the digit correctly and display the results to the user."
   ]
  },
  {
   "cell_type": "markdown",
   "metadata": {},
   "source": [
    "## Setting up the Neural Network\n",
    "\n",
    "To set up the initial neural network, we'll need to use the numpy package that we've used before to store the data into an array. We also need to import the keras package to create the network.\n",
    "\n",
    "#### Keras\n",
    "Keras is a high-level neural networks API, written in Python and capable of running on top of TensorFlow, CNTK, or Theano. It was developed with a focus on enabling fast experimentation. Being able to go from idea to result with the least possible delay is key to doing good research. [1]\n",
    "\n",
    "#### Creating neural network\n",
    "The core data structure of Keras is a model, a way to organize layers. The simplest type of model is the Sequential model, a linear stack of layers. With this, we then add layers onto the model and configure its learning process with a compile. [2]"
   ]
  },
  {
   "cell_type": "code",
   "execution_count": 39,
   "metadata": {},
   "outputs": [],
   "source": [
    "# import keras packages\n",
    "# NOTE: To import the keras package you must install tensorflow - which can be found here: https://www.tensorflow.org/install/\n",
    "import keras as kr\n",
    "\n",
    "# Create the sequential model\n",
    "model = kr.models.Sequential()\n",
    "\n",
    "# Add layers to the model\n",
    "model.add(kr.layers.Dense(units=1000, activation='linear', input_dim=784))\n",
    "#model.add(kr.layers.Dense(units=400, activation='relu'))\n",
    "model.add(kr.layers.Dense(units=10, activation='softmax'))\n",
    "\n",
    "# Compile the model\n",
    "model.compile(loss='categorical_crossentropy', optimizer='sgd', metrics=['accuracy'])"
   ]
  },
  {
   "cell_type": "markdown",
   "metadata": {},
   "source": [
    "We set up an input layer of 784 neurons, one for each value in the 28x28 array, with a hidden layer of 1000 neurons and a linear activation function.\n",
    "(NOTE: the below graph shows a 100 neuron hidden layer whereas we are using a 1000 neuron hidden layer).\n",
    "\n",
    "We set up an output layer with 10 neurons, one for each value ranging from 0-9."
   ]
  },
  {
   "cell_type": "markdown",
   "metadata": {},
   "source": [
    "<img src=\"https://3.bp.blogspot.com/-mDyzBzA4btg/V4_Z0f2mc7I/AAAAAAAAE3M/dtU8hT661fQWtnRC_JvIH_4qifQomZ4PACLcB/s1600/MNIST_neuralnet_image.png\">\n",
    "[3]"
   ]
  },
  {
   "cell_type": "markdown",
   "metadata": {},
   "source": [
    "## Importing the dataset\n",
    "\n",
    "Now that we have our neural network set up, we can import the MNIST data set so we can train our neural network. As we've done before in the MNIST notebook, we just import the gzip package to open the data set files, and store these byte values into an int array using numpy."
   ]
  },
  {
   "cell_type": "code",
   "execution_count": 45,
   "metadata": {},
   "outputs": [],
   "source": [
    "# Import the gzip and numpy packages\n",
    "import gzip\n",
    "import numpy as np\n",
    "\n",
    "# This opens the images file which is located in our local directory and assigns the read in value to a variable\n",
    "with gzip.open('t10k-images-idx3-ubyte.gz', 'rb') as f:\n",
    "    image_content = f.read()\n",
    "    \n",
    "# This opens the label file which is located in our local directory and assigns the read in value to a variable\n",
    "with gzip.open('t10k-labels-idx1-ubyte.gz', 'rb') as f:\n",
    "    label_content = f.read()\n",
    "    \n",
    "# This opens the training images file which is located in our local directory and assigns the read in value to a variable\n",
    "with gzip.open('train-images-idx3-ubyte.gz', 'rb') as f:\n",
    "    train_img = f.read()\n",
    "\n",
    "# This opens the training label file which is located in our local directory and assigns the read in value to a variable\n",
    "with gzip.open('train-labels-idx1-ubyte.gz', 'rb') as f:\n",
    "    train_lbl = f.read()\n",
    "    \n",
    "# Assign the training data set to a numpy array holding all the values in a 28x28 array\n",
    "train_img = ~np.array(list(train_img[16:])).reshape(60000, 28, 28).astype(np.uint8) / 255.0\n",
    "# Assign the training label data set to a numpy array\n",
    "train_lbl =  np.array(list(train_lbl[8:])).astype(np.uint8)"
   ]
  },
  {
   "cell_type": "markdown",
   "metadata": {},
   "source": [
    "Now that we have the training set assigned to an array, we can also assign the test set to an array. Below I will also show the bytes as 1s and 0s as an array."
   ]
  },
  {
   "cell_type": "code",
   "execution_count": 48,
   "metadata": {},
   "outputs": [
    {
     "name": "stdout",
     "output_type": "stream",
     "text": [
      "[[0 0 0 0 0 0 0 0 0 0 0 0 0 0 0 0 0 0 0 0 0 0 0 0 0 0 0 0]\n",
      " [0 0 0 0 0 0 0 0 0 0 0 0 0 0 0 0 0 0 0 0 0 0 0 0 0 0 0 0]\n",
      " [0 0 0 0 0 0 0 0 0 0 0 0 0 0 0 0 0 0 0 0 0 0 0 0 0 0 0 0]\n",
      " [0 0 0 0 0 0 0 0 0 0 0 0 0 0 0 0 0 0 0 0 0 0 0 0 0 0 0 0]\n",
      " [0 0 0 0 0 0 0 0 0 0 0 0 0 0 0 0 0 0 0 0 0 0 0 0 0 0 0 0]\n",
      " [0 0 0 0 0 0 0 0 0 0 0 0 0 0 0 0 0 0 0 0 0 0 0 0 0 0 0 0]\n",
      " [0 0 0 0 0 0 0 0 0 0 0 0 0 0 0 0 0 0 0 0 0 0 0 0 0 0 0 0]\n",
      " [0 0 0 0 0 0 1 1 1 1 1 1 0 0 0 0 0 0 0 0 0 0 0 0 0 0 0 0]\n",
      " [0 0 0 0 0 0 1 1 1 1 1 1 1 1 1 1 1 1 1 1 1 1 0 0 0 0 0 0]\n",
      " [0 0 0 0 0 0 1 1 1 1 1 1 1 1 1 1 1 1 1 1 1 1 0 0 0 0 0 0]\n",
      " [0 0 0 0 0 0 0 0 0 0 0 1 1 1 1 1 1 1 1 1 1 1 0 0 0 0 0 0]\n",
      " [0 0 0 0 0 0 0 0 0 0 0 0 0 0 0 0 0 0 1 1 1 1 0 0 0 0 0 0]\n",
      " [0 0 0 0 0 0 0 0 0 0 0 0 0 0 0 0 0 1 1 1 1 0 0 0 0 0 0 0]\n",
      " [0 0 0 0 0 0 0 0 0 0 0 0 0 0 0 0 0 1 1 1 1 0 0 0 0 0 0 0]\n",
      " [0 0 0 0 0 0 0 0 0 0 0 0 0 0 0 0 1 1 1 1 0 0 0 0 0 0 0 0]\n",
      " [0 0 0 0 0 0 0 0 0 0 0 0 0 0 0 0 1 1 1 1 0 0 0 0 0 0 0 0]\n",
      " [0 0 0 0 0 0 0 0 0 0 0 0 0 0 0 1 1 1 1 0 0 0 0 0 0 0 0 0]\n",
      " [0 0 0 0 0 0 0 0 0 0 0 0 0 0 0 1 1 1 0 0 0 0 0 0 0 0 0 0]\n",
      " [0 0 0 0 0 0 0 0 0 0 0 0 0 0 1 1 1 1 0 0 0 0 0 0 0 0 0 0]\n",
      " [0 0 0 0 0 0 0 0 0 0 0 0 0 1 1 1 1 0 0 0 0 0 0 0 0 0 0 0]\n",
      " [0 0 0 0 0 0 0 0 0 0 0 0 1 1 1 1 1 0 0 0 0 0 0 0 0 0 0 0]\n",
      " [0 0 0 0 0 0 0 0 0 0 0 0 1 1 1 1 0 0 0 0 0 0 0 0 0 0 0 0]\n",
      " [0 0 0 0 0 0 0 0 0 0 0 1 1 1 1 1 0 0 0 0 0 0 0 0 0 0 0 0]\n",
      " [0 0 0 0 0 0 0 0 0 0 0 1 1 1 1 0 0 0 0 0 0 0 0 0 0 0 0 0]\n",
      " [0 0 0 0 0 0 0 0 0 0 1 1 1 1 1 0 0 0 0 0 0 0 0 0 0 0 0 0]\n",
      " [0 0 0 0 0 0 0 0 0 0 1 1 1 1 1 0 0 0 0 0 0 0 0 0 0 0 0 0]\n",
      " [0 0 0 0 0 0 0 0 0 0 1 1 1 1 0 0 0 0 0 0 0 0 0 0 0 0 0 0]\n",
      " [0 0 0 0 0 0 0 0 0 0 0 0 0 0 0 0 0 0 0 0 0 0 0 0 0 0 0 0]]\n"
     ]
    }
   ],
   "source": [
    "# Assign the data set to a numpy array holding all the values in a 28x28 array\n",
    "image_test = ~np.array(list(image_content[16:])).reshape(10000,28,28).astype(np.uint8)\n",
    "\n",
    "# Assign the label data set to a numpy array\n",
    "label_test =  np.array(list(label_content[8:])).astype(np.uint8)\n",
    "\n",
    "# Display the bytes as 1s and 0s in an array\n",
    "print((~image_test[0]).astype(np.bool).astype(np.uint8))"
   ]
  },
  {
   "cell_type": "markdown",
   "metadata": {},
   "source": [
    "## Flattening the array\n",
    "With our training array with a size of 60000 with a 28x28 array at each of these values we have a 3 Dimensional array. But to input our values into the neural network we need a 1 Dimensional array were all the values are sequentially stored after eachother. To do this, we just need to reshape the array again to the size we want."
   ]
  },
  {
   "cell_type": "code",
   "execution_count": 55,
   "metadata": {},
   "outputs": [
    {
     "name": "stdout",
     "output_type": "stream",
     "text": [
      "[[1. 1. 1. ... 1. 1. 1.]\n",
      " [1. 1. 1. ... 1. 1. 1.]\n",
      " [1. 1. 1. ... 1. 1. 1.]\n",
      " ...\n",
      " [1. 1. 1. ... 1. 1. 1.]\n",
      " [1. 1. 1. ... 1. 1. 1.]\n",
      " [1. 1. 1. ... 1. 1. 1.]]\n"
     ]
    }
   ],
   "source": [
    "# Reshape the 3D array into a 1D array\n",
    "inputs = train_img.reshape(60000, 784)\n",
    "# Print the 1D array of inputs\n",
    "print(inputs)"
   ]
  },
  {
   "cell_type": "markdown",
   "metadata": {},
   "source": [
    "## Encoding the label data\n",
    "The label data needs to be encoded into a matrix of 10x10. To do this we convert the data into binary format. So first we set up the binary encoder, then pass in the label values and fit them into the matrix as the label values are 0-9 so they fit into the 10x10 matrix. The labels are then transformed into the binary format, where each label number indicates the value of the number and the binary format displays its position."
   ]
  },
  {
   "cell_type": "code",
   "execution_count": 53,
   "metadata": {},
   "outputs": [
    {
     "name": "stdout",
     "output_type": "stream",
     "text": [
      "5 [0 0 0 0 0 1 0 0 0 0]\n"
     ]
    }
   ],
   "source": [
    "# For encoding categorical variables.\n",
    "import sklearn.preprocessing as pre\n",
    "\n",
    "# set up the binary encoder\n",
    "encoder = pre.LabelBinarizer()\n",
    "# fit the labels into the binary format\n",
    "encoder.fit(train_lbl)\n",
    "# Transform the labels to the binary format\n",
    "outputs = encoder.transform(train_lbl)\n",
    "\n",
    "# Print the labels position and the binary array in the same position\n",
    "# Result should show the label number 5 and a 1 in the 6th position to indicate the number 5 (0-9)\n",
    "print(train_lbl[0], outputs[0])"
   ]
  },
  {
   "cell_type": "code",
   "execution_count": 30,
   "metadata": {},
   "outputs": [
    {
     "name": "stdout",
     "output_type": "stream",
     "text": [
      "0 [[1 0 0 0 0 0 0 0 0 0]]\n",
      "1 [[0 1 0 0 0 0 0 0 0 0]]\n",
      "2 [[0 0 1 0 0 0 0 0 0 0]]\n",
      "3 [[0 0 0 1 0 0 0 0 0 0]]\n",
      "4 [[0 0 0 0 1 0 0 0 0 0]]\n",
      "5 [[0 0 0 0 0 1 0 0 0 0]]\n",
      "6 [[0 0 0 0 0 0 1 0 0 0]]\n",
      "7 [[0 0 0 0 0 0 0 1 0 0]]\n",
      "8 [[0 0 0 0 0 0 0 0 1 0]]\n",
      "9 [[0 0 0 0 0 0 0 0 0 1]]\n"
     ]
    }
   ],
   "source": [
    "for i in range(10):\n",
    "    print(i, encoder.transform([i]))"
   ]
  },
  {
   "cell_type": "markdown",
   "metadata": {},
   "source": [
    "Now to train our neural network, we need to train it. To do this we use the keras fit() method which will train  the model for a given number of epochs (iterations on a dataset). [4]\n",
    "\n",
    "For our model we are going to pass in four parameters:\n",
    "    <li>Inputs:    \n",
    "    Numpy array of training data.\n",
    "    </li>\n",
    "    <li>Outputs:      \n",
    "    Numpy array of label data\n",
    "    </li>\n",
    "    <li>Epoch:      \n",
    "    Number of epochs to train the model. An epoch is an \n",
    "    iteration over the entire x and y data provided. </li>\n",
    "    <li>Batch_size:       \n",
    "    The amount of data we want to test at one time.\n",
    "    </li>\n",
    "    \n",
    "    \n",
    "For the below example, we will use the training set that we set up above. We will have a batch size of 100 and an epoch size of 2. With our batch size quite large and such a small epoch size we dont expect to have a high accuracy as we are not training the model enough."
   ]
  },
  {
   "cell_type": "code",
   "execution_count": 54,
   "metadata": {},
   "outputs": [
    {
     "name": "stdout",
     "output_type": "stream",
     "text": [
      "Epoch 1/2\n",
      "60000/60000 [==============================] - 11s 186us/step - loss: 0.8048 - acc: 0.7731\n",
      "Epoch 2/2\n",
      "60000/60000 [==============================] - 11s 177us/step - loss: 0.4349 - acc: 0.8781\n"
     ]
    },
    {
     "data": {
      "text/plain": [
       "<keras.callbacks.History at 0x2762b85be10>"
      ]
     },
     "execution_count": 54,
     "metadata": {},
     "output_type": "execute_result"
    }
   ],
   "source": [
    "model.fit(inputs, outputs, epochs=2, batch_size=100)"
   ]
  },
  {
   "cell_type": "markdown",
   "metadata": {},
   "source": [
    "With the above example working we can work with a bigger epoch size to get better accuracy with our results. We can also use the Matplotlib package to graph our results and see how more accurate the neural network gets every iteration (epoch)."
   ]
  },
  {
   "cell_type": "code",
   "execution_count": 38,
   "metadata": {},
   "outputs": [
    {
     "name": "stdout",
     "output_type": "stream",
     "text": [
      "Train on 45000 samples, validate on 15000 samples\n",
      "Epoch 1/20\n",
      "45000/45000 [==============================] - 9s 207us/step - loss: 0.9817 - acc: 0.7611 - val_loss: 0.5638 - val_acc: 0.8698\n",
      "Epoch 2/20\n",
      "45000/45000 [==============================] - 9s 197us/step - loss: 0.5144 - acc: 0.8660 - val_loss: 0.4354 - val_acc: 0.8838\n",
      "Epoch 3/20\n",
      "45000/45000 [==============================] - 9s 197us/step - loss: 0.4312 - acc: 0.8819 - val_loss: 0.3893 - val_acc: 0.8911\n",
      "Epoch 4/20\n",
      "45000/45000 [==============================] - 9s 196us/step - loss: 0.3911 - acc: 0.8905 - val_loss: 0.3630 - val_acc: 0.8959\n",
      "Epoch 5/20\n",
      "45000/45000 [==============================] - 9s 196us/step - loss: 0.3672 - acc: 0.8955 - val_loss: 0.3521 - val_acc: 0.8978\n",
      "Epoch 6/20\n",
      "45000/45000 [==============================] - 9s 202us/step - loss: 0.3513 - acc: 0.8995 - val_loss: 0.3284 - val_acc: 0.9066\n",
      "Epoch 7/20\n",
      "45000/45000 [==============================] - 9s 197us/step - loss: 0.3374 - acc: 0.9032 - val_loss: 0.3231 - val_acc: 0.9065\n",
      "Epoch 8/20\n",
      "45000/45000 [==============================] - 9s 204us/step - loss: 0.3270 - acc: 0.9051 - val_loss: 0.3164 - val_acc: 0.9093\n",
      "Epoch 9/20\n",
      "45000/45000 [==============================] - 9s 199us/step - loss: 0.3186 - acc: 0.9085 - val_loss: 0.3045 - val_acc: 0.9147\n",
      "Epoch 10/20\n",
      "45000/45000 [==============================] - 9s 199us/step - loss: 0.3096 - acc: 0.9105 - val_loss: 0.3033 - val_acc: 0.9122\n",
      "Epoch 11/20\n",
      "45000/45000 [==============================] - 9s 207us/step - loss: 0.3029 - acc: 0.9120 - val_loss: 0.2990 - val_acc: 0.9147\n",
      "Epoch 12/20\n",
      "45000/45000 [==============================] - 9s 201us/step - loss: 0.2967 - acc: 0.9144 - val_loss: 0.2880 - val_acc: 0.9179\n",
      "Epoch 13/20\n",
      "45000/45000 [==============================] - 9s 199us/step - loss: 0.2899 - acc: 0.9167 - val_loss: 0.2810 - val_acc: 0.9206\n",
      "Epoch 14/20\n",
      "45000/45000 [==============================] - 9s 204us/step - loss: 0.2841 - acc: 0.9184 - val_loss: 0.2789 - val_acc: 0.9214\n",
      "Epoch 15/20\n",
      "45000/45000 [==============================] - 9s 193us/step - loss: 0.2774 - acc: 0.9203 - val_loss: 0.2732 - val_acc: 0.9223\n",
      "Epoch 16/20\n",
      "45000/45000 [==============================] - 9s 194us/step - loss: 0.2739 - acc: 0.9211 - val_loss: 0.2712 - val_acc: 0.9229\n",
      "Epoch 17/20\n",
      "45000/45000 [==============================] - 9s 193us/step - loss: 0.2679 - acc: 0.9222 - val_loss: 0.2745 - val_acc: 0.9225\n",
      "Epoch 18/20\n",
      "45000/45000 [==============================] - 9s 193us/step - loss: 0.2627 - acc: 0.9252 - val_loss: 0.2624 - val_acc: 0.9257\n",
      "Epoch 19/20\n",
      "45000/45000 [==============================] - 9s 192us/step - loss: 0.2577 - acc: 0.9264 - val_loss: 0.2552 - val_acc: 0.9283\n",
      "Epoch 20/20\n",
      "45000/45000 [==============================] - 9s 189us/step - loss: 0.2527 - acc: 0.9274 - val_loss: 0.2526 - val_acc: 0.9281\n"
     ]
    },
    {
     "data": {
      "image/png": "[encoded data removed]",
      "text/plain": [
       "<Figure size 432x288 with 1 Axes>"
      ]
     },
     "metadata": {
      "needs_background": "light"
     },
     "output_type": "display_data"
    },
    {
     "data": {
      "image/png": "[encoded data removed]",
      "text/plain": [
       "<Figure size 432x288 with 1 Axes>"
      ]
     },
     "metadata": {
      "needs_background": "light"
     },
     "output_type": "display_data"
    }
   ],
   "source": [
    "# Import the matplotlib package\n",
    "import matplotlib.pyplot as plt\n",
    "\n",
    "# Train the model and assign it to a variable so we can use it to plot our data\n",
    "training = model.fit(inputs, outputs, epochs=20, batch_size=100, verbose=1)\n",
    "\n",
    "# Plot training & validation accuracy values\n",
    "plt.plot(training.history['acc'])\n",
    "plt.plot(training.history['val_acc'])\n",
    "plt.title('Model accuracy')\n",
    "plt.ylabel('Accuracy')\n",
    "plt.xlabel('Epoch')\n",
    "plt.legend(['Train', 'Test'], loc='lower right')\n",
    "plt.show()\n",
    "\n",
    "# Plot training & validation loss values\n",
    "plt.plot(training.history['loss'])\n",
    "plt.plot(training.history['val_loss'])\n",
    "plt.title('Model Loss')\n",
    "plt.ylabel('Loss')\n",
    "plt.xlabel('Epoch')\n",
    "plt.legend(['Train', 'Test'], loc='upper left')\n",
    "plt.show()"
   ]
  },
  {
   "cell_type": "code",
   "execution_count": 13,
   "metadata": {},
   "outputs": [
    {
     "data": {
      "text/plain": [
       "array([[1.5429021e-05, 9.6844000e-01, 1.1015500e-02, 7.7242730e-03,\n",
       "        7.3000447e-05, 3.0352670e-04, 2.1726568e-04, 4.9345144e-03,\n",
       "        5.9866104e-03, 1.2898021e-03]], dtype=float32)"
      ]
     },
     "execution_count": 13,
     "metadata": {},
     "output_type": "execute_result"
    }
   ],
   "source": [
    "model.predict(test_img[5:6])"
   ]
  },
  {
   "cell_type": "code",
   "execution_count": 6,
   "metadata": {},
   "outputs": [
    {
     "name": "stdout",
     "output_type": "stream",
     "text": [
      "Epoch 1/20\n",
      "60000/60000 [==============================] - 10s 174us/step - loss: 0.8039 - acc: 0.7746\n",
      "Epoch 2/20\n",
      "60000/60000 [==============================] - 9s 142us/step - loss: 0.4392 - acc: 0.8771\n",
      "Epoch 3/20\n",
      "60000/60000 [==============================] - 10s 164us/step - loss: 0.3871 - acc: 0.8889\n",
      "Epoch 4/20\n",
      "60000/60000 [==============================] - 8s 136us/step - loss: 0.3626 - acc: 0.8960\n",
      "Epoch 5/20\n",
      "60000/60000 [==============================] - 8s 136us/step - loss: 0.3468 - acc: 0.8999\n",
      "Epoch 6/20\n",
      "60000/60000 [==============================] - 8s 138us/step - loss: 0.3365 - acc: 0.9016\n",
      "Epoch 7/20\n",
      "60000/60000 [==============================] - 8s 138us/step - loss: 0.3276 - acc: 0.9049\n",
      "Epoch 8/20\n",
      "60000/60000 [==============================] - 8s 137us/step - loss: 0.3220 - acc: 0.9070\n",
      "Epoch 9/20\n",
      "60000/60000 [==============================] - 8s 138us/step - loss: 0.3165 - acc: 0.9086\n",
      "Epoch 10/20\n",
      "60000/60000 [==============================] - 8s 136us/step - loss: 0.3129 - acc: 0.9101\n",
      "Epoch 11/20\n",
      "60000/60000 [==============================] - 8s 139us/step - loss: 0.3094 - acc: 0.9113\n",
      "Epoch 12/20\n",
      "60000/60000 [==============================] - 8s 139us/step - loss: 0.3071 - acc: 0.9115\n",
      "Epoch 13/20\n",
      "60000/60000 [==============================] - 8s 141us/step - loss: 0.3034 - acc: 0.9130\n",
      "Epoch 14/20\n",
      "60000/60000 [==============================] - 9s 143us/step - loss: 0.3010 - acc: 0.9131\n",
      "Epoch 15/20\n",
      "60000/60000 [==============================] - 8s 140us/step - loss: 0.2991 - acc: 0.9152\n",
      "Epoch 16/20\n",
      "60000/60000 [==============================] - 8s 138us/step - loss: 0.2974 - acc: 0.9140\n",
      "Epoch 17/20\n",
      "60000/60000 [==============================] - 8s 138us/step - loss: 0.2954 - acc: 0.9163\n",
      "Epoch 18/20\n",
      "60000/60000 [==============================] - 8s 135us/step - loss: 0.2939 - acc: 0.9163\n",
      "Epoch 19/20\n",
      "60000/60000 [==============================] - 8s 135us/step - loss: 0.2925 - acc: 0.9163\n",
      "Epoch 20/20\n",
      "60000/60000 [==============================] - 8s 134us/step - loss: 0.2911 - acc: 0.9171\n"
     ]
    },
    {
     "name": "stdin",
     "output_type": "stream",
     "text": [
      "Please Select a menu option: 1 - Test 10 random images from the test set 1\n"
     ]
    },
    {
     "name": "stdout",
     "output_type": "stream",
     "text": [
      "Test Number :  1 \n",
      "\n",
      "The random index:  8741 \n",
      "\n",
      "The result array: \n",
      "[[2.4989746e-03 3.9605013e-05 3.9294519e-05 3.7513408e-03 3.0021943e-07\n",
      "  9.7797865e-01 9.7309705e-05 1.5302058e-08 1.5579022e-02 1.5513157e-05]] \n",
      "\n",
      "The networks prediction: =>>  [5]\n",
      "The actual number: =>>  [5]\n",
      "=-=-=-=-=-=-=-=-=-=-=-=-=-=-=-=-=-=-=-=-=-=-=-\n",
      "Test Number :  2 \n",
      "\n",
      "The random index:  9801 \n",
      "\n",
      "The result array: \n",
      "[[9.9927634e-01 8.9573921e-15 2.0953707e-10 3.2695172e-10 1.3397344e-12\n",
      "  7.2278408e-04 4.8219203e-08 2.1058385e-15 8.2795117e-07 1.5142285e-12]] \n",
      "\n",
      "The networks prediction: =>>  [0]\n",
      "The actual number: =>>  [0]\n",
      "=-=-=-=-=-=-=-=-=-=-=-=-=-=-=-=-=-=-=-=-=-=-=-\n",
      "Test Number :  3 \n",
      "\n",
      "The random index:  4107 \n",
      "\n",
      "The result array: \n",
      "[[3.4203054e-05 1.7380265e-06 9.7490745e-03 5.0284350e-03 1.8595683e-05\n",
      "  2.8155724e-04 1.1009332e-05 9.5699888e-01 1.1053804e-03 2.6771160e-02]] \n",
      "\n",
      "The networks prediction: =>>  [7]\n",
      "The actual number: =>>  [7]\n",
      "=-=-=-=-=-=-=-=-=-=-=-=-=-=-=-=-=-=-=-=-=-=-=-\n",
      "Test Number :  4 \n",
      "\n",
      "The random index:  5451 \n",
      "\n",
      "The result array: \n",
      "[[1.1963623e-03 1.5381238e-07 3.4969915e-05 8.2216189e-05 4.6477053e-05\n",
      "  9.9359775e-01 8.7761100e-06 1.4566704e-07 4.9971808e-03 3.5997047e-05]] \n",
      "\n",
      "The networks prediction: =>>  [5]\n",
      "The actual number: =>>  [5]\n",
      "=-=-=-=-=-=-=-=-=-=-=-=-=-=-=-=-=-=-=-=-=-=-=-\n",
      "Test Number :  5 \n",
      "\n",
      "The random index:  3618 \n",
      "\n",
      "The result array: \n",
      "[[3.3517458e-06 4.4598892e-06 2.4957422e-04 7.8330440e-03 4.0662652e-03\n",
      "  6.9041183e-04 6.1209343e-05 1.6734990e-01 1.6602825e-02 8.0313897e-01]] \n",
      "\n",
      "The networks prediction: =>>  [9]\n",
      "The actual number: =>>  [9]\n",
      "=-=-=-=-=-=-=-=-=-=-=-=-=-=-=-=-=-=-=-=-=-=-=-\n",
      "Test Number :  6 \n",
      "\n",
      "The random index:  2139 \n",
      "\n",
      "The result array: \n",
      "[[1.7894177e-04 3.5990081e-05 5.4073287e-05 9.8042470e-01 6.3412654e-06\n",
      "  1.6904738e-02 7.4888142e-08 1.1558709e-07 2.3938753e-03 1.0343592e-06]] \n",
      "\n",
      "The networks prediction: =>>  [3]\n",
      "The actual number: =>>  [3]\n",
      "=-=-=-=-=-=-=-=-=-=-=-=-=-=-=-=-=-=-=-=-=-=-=-\n",
      "Test Number :  7 \n",
      "\n",
      "The random index:  5972 \n",
      "\n",
      "The result array: \n",
      "[[8.0568629e-05 1.2099298e-07 3.6060176e-06 6.2745661e-01 7.9098942e-07\n",
      "  3.1245169e-01 9.7635322e-09 7.0894443e-05 5.8386937e-02 1.5487126e-03]] \n",
      "\n",
      "The networks prediction: =>>  [3]\n",
      "The actual number: =>>  [5]\n",
      "=-=-=-=-=-=-=-=-=-=-=-=-=-=-=-=-=-=-=-=-=-=-=-\n",
      "Test Number :  8 \n",
      "\n",
      "The random index:  2097 \n",
      "\n",
      "The result array: \n",
      "[[3.0831588e-03 9.0421036e-06 2.0012485e-02 5.5417843e-04 6.2552062e-03\n",
      "  2.3820426e-02 9.4336700e-01 3.6006692e-05 2.2220400e-03 6.4043776e-04]] \n",
      "\n",
      "The networks prediction: =>>  [6]\n",
      "The actual number: =>>  [6]\n",
      "=-=-=-=-=-=-=-=-=-=-=-=-=-=-=-=-=-=-=-=-=-=-=-\n",
      "Test Number :  9 \n",
      "\n",
      "The random index:  7920 \n",
      "\n",
      "The result array: \n",
      "[[2.6745260e-05 3.7268478e-01 4.1505691e-02 6.2093870e-03 3.1524244e-06\n",
      "  6.7871712e-05 1.6625399e-05 6.6723680e-07 5.7936007e-01 1.2505407e-04]] \n",
      "\n",
      "The networks prediction: =>>  [8]\n",
      "The actual number: =>>  [1]\n",
      "=-=-=-=-=-=-=-=-=-=-=-=-=-=-=-=-=-=-=-=-=-=-=-\n",
      "Test Number :  10 \n",
      "\n",
      "The random index:  3597 \n",
      "\n",
      "The result array: \n",
      "[[3.8288403e-03 3.0094510e-05 1.0336873e-03 9.6168631e-01 1.1864706e-05\n",
      "  2.0936800e-02 2.4406978e-07 5.8161411e-03 5.8941133e-03 7.6202239e-04]] \n",
      "\n",
      "The networks prediction: =>>  [3]\n",
      "The actual number: =>>  [9]\n",
      "=-=-=-=-=-=-=-=-=-=-=-=-=-=-=-=-=-=-=-=-=-=-=-\n"
     ]
    }
   ],
   "source": [
    "%run -i \"Digit-Recog.py\""
   ]
  },
  {
   "cell_type": "markdown",
   "metadata": {},
   "source": [
    "## References\n",
    "<ul>\n",
    "    <li><a href=\"https://keras.io/\">Keras Documentation</a> [1]</li>\n",
    "    <li><a href=\"https://keras.io/#getting-started-30-seconds-to-keras\">Keras Getting started</a> [2]</li>\n",
    "    <li><a href=\"http://db-blog.web.cern.ch/fr/node/98\">Neural Network Visual</a> [3]</li>\n",
    "    <li><a href=\"https://keras.io/models/sequential/\">Keras Sequential model API</a> [4]</li>\n",
    "    <li><a href=\"\"></a></li>\n",
    "</ul>"
   ]
  },
  {
   "cell_type": "code",
   "execution_count": null,
   "metadata": {},
   "outputs": [],
   "source": []
  }
 ],
 "metadata": {
  "kernelspec": {
   "display_name": "Python 3",
   "language": "python",
   "name": "python3"
  },
  "language_info": {
   "codemirror_mode": {
    "name": "ipython",
    "version": 3
   },
   "file_extension": ".py",
   "mimetype": "text/x-python",
   "name": "python",
   "nbconvert_exporter": "python",
   "pygments_lexer": "ipython3",
   "version": "3.6.7"
  }
 },
 "nbformat": 4,
 "nbformat_minor": 2
}
