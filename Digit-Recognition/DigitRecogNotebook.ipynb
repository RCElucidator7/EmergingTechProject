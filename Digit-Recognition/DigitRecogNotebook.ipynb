{
 "cells": [
  {
   "cell_type": "markdown",
   "metadata": {},
   "source": [
    "# <b>Digital Recognition Notebook</b>"
   ]
  },
  {
   "cell_type": "markdown",
   "metadata": {},
   "source": [
    "## Neural Network"
   ]
  },
  {
   "cell_type": "code",
   "execution_count": 2,
   "metadata": {},
   "outputs": [
    {
     "name": "stderr",
     "output_type": "stream",
     "text": [
      "Using TensorFlow backend.\n"
     ]
    },
    {
     "name": "stdout",
     "output_type": "stream",
     "text": [
      "tf.estimator package not installed.\n",
      "tf.estimator package not installed.\n"
     ]
    }
   ],
   "source": [
    "# import keras\n",
    "import keras as kr\n",
    "\n",
    "import numpy as np\n",
    "\n",
    "model = kr.models.Sequential()\n",
    "\n",
    "model.add(kr.layers.Dense(units=1000, activation='linear', input_dim=784))\n",
    "model.add(kr.layers.Dense(units=400, activation='relu'))\n",
    "model.add(kr.layers.Dense(units=10, activation='softmax'))\n",
    "\n",
    "model.compile(loss='categorical_crossentropy', optimizer='sgd', metrics=['accuracy'])"
   ]
  },
  {
   "cell_type": "code",
   "execution_count": 3,
   "metadata": {},
   "outputs": [],
   "source": [
    "import gzip\n",
    "\n",
    "# This opens the images file which is located in our local directory and assigns the read in value to a variable\n",
    "#with gzip.open('t10k-images-idx3-ubyte.gz', 'rb') as f:\n",
    "#    image_content = f.read()\n",
    "    \n",
    "#with gzip.open('t10k-labels-idx1-ubyte.gz', 'rb') as f:\n",
    "#    label_content = f.read()\n",
    "    \n",
    "    \n",
    "with gzip.open('train-images-idx3-ubyte.gz', 'rb') as f:\n",
    "    train_img = f.read()\n",
    "\n",
    "with gzip.open('train-labels-idx1-ubyte.gz', 'rb') as f:\n",
    "    train_lbl = f.read()\n",
    "    \n",
    "train_img = ~np.array(list(train_img[16:])).reshape(60000, 28, 28).astype(np.uint8) / 255.0\n",
    "train_lbl =  np.array(list(train_lbl[ 8:])).astype(np.uint8)"
   ]
  },
  {
   "cell_type": "code",
   "execution_count": 4,
   "metadata": {},
   "outputs": [
    {
     "ename": "NameError",
     "evalue": "name 'image_content' is not defined",
     "output_type": "error",
     "traceback": [
      "\u001b[1;31m-----------------------------------------------------------------------\u001b[0m",
      "\u001b[1;31mNameError\u001b[0m                             Traceback (most recent call last)",
      "\u001b[1;32m<ipython-input-4-3735954600b0>\u001b[0m in \u001b[0;36m<module>\u001b[1;34m\u001b[0m\n\u001b[0;32m      1\u001b[0m \u001b[1;32mimport\u001b[0m \u001b[0mnumpy\u001b[0m \u001b[1;32mas\u001b[0m \u001b[0mnp\u001b[0m\u001b[1;33m\u001b[0m\u001b[1;33m\u001b[0m\u001b[0m\n\u001b[0;32m      2\u001b[0m \u001b[1;33m\u001b[0m\u001b[0m\n\u001b[1;32m----> 3\u001b[1;33m \u001b[0mimage\u001b[0m \u001b[1;33m=\u001b[0m \u001b[1;33m~\u001b[0m\u001b[0mnp\u001b[0m\u001b[1;33m.\u001b[0m\u001b[0marray\u001b[0m\u001b[1;33m(\u001b[0m\u001b[0mlist\u001b[0m\u001b[1;33m(\u001b[0m\u001b[0mimage_content\u001b[0m\u001b[1;33m[\u001b[0m\u001b[1;36m16\u001b[0m\u001b[1;33m:\u001b[0m\u001b[1;33m]\u001b[0m\u001b[1;33m)\u001b[0m\u001b[1;33m)\u001b[0m\u001b[1;33m.\u001b[0m\u001b[0mreshape\u001b[0m\u001b[1;33m(\u001b[0m\u001b[1;36m10000\u001b[0m\u001b[1;33m,\u001b[0m\u001b[1;36m28\u001b[0m\u001b[1;33m,\u001b[0m\u001b[1;36m28\u001b[0m\u001b[1;33m)\u001b[0m\u001b[1;33m.\u001b[0m\u001b[0mastype\u001b[0m\u001b[1;33m(\u001b[0m\u001b[0mnp\u001b[0m\u001b[1;33m.\u001b[0m\u001b[0muint8\u001b[0m\u001b[1;33m)\u001b[0m\u001b[1;33m\u001b[0m\u001b[1;33m\u001b[0m\u001b[0m\n\u001b[0m\u001b[0;32m      4\u001b[0m \u001b[1;33m\u001b[0m\u001b[0m\n\u001b[0;32m      5\u001b[0m \u001b[1;31m# Display the bytes as 1s and 0s in an array\u001b[0m\u001b[1;33m\u001b[0m\u001b[1;33m\u001b[0m\u001b[1;33m\u001b[0m\u001b[0m\n",
      "\u001b[1;31mNameError\u001b[0m: name 'image_content' is not defined"
     ]
    }
   ],
   "source": [
    "import numpy as np\n",
    "\n",
    "image = ~np.array(list(image_content[16:])).reshape(10000,28,28).astype(np.uint8)\n",
    "\n",
    "# Display the bytes as 1s and 0s in an array\n",
    "print((~image[0]).astype(np.bool).astype(np.uint8))"
   ]
  },
  {
   "cell_type": "code",
   "execution_count": 5,
   "metadata": {},
   "outputs": [
    {
     "name": "stdout",
     "output_type": "stream",
     "text": [
      "<module 'sklearn.preprocessing' from 'D:\\\\Anaconda3\\\\lib\\\\site-packages\\\\sklearn\\\\preprocessing\\\\__init__.py'>\n"
     ]
    }
   ],
   "source": [
    "import sklearn.preprocessing as pre\n",
    "print(pre)"
   ]
  },
  {
   "cell_type": "code",
   "execution_count": 6,
   "metadata": {},
   "outputs": [
    {
     "name": "stdout",
     "output_type": "stream",
     "text": [
      "[[[1. 1. 1. ... 1. 1. 1.]\n",
      "  [1. 1. 1. ... 1. 1. 1.]\n",
      "  [1. 1. 1. ... 1. 1. 1.]\n",
      "  ...\n",
      "  [1. 1. 1. ... 1. 1. 1.]\n",
      "  [1. 1. 1. ... 1. 1. 1.]\n",
      "  [1. 1. 1. ... 1. 1. 1.]]\n",
      "\n",
      " [[1. 1. 1. ... 1. 1. 1.]\n",
      "  [1. 1. 1. ... 1. 1. 1.]\n",
      "  [1. 1. 1. ... 1. 1. 1.]\n",
      "  ...\n",
      "  [1. 1. 1. ... 1. 1. 1.]\n",
      "  [1. 1. 1. ... 1. 1. 1.]\n",
      "  [1. 1. 1. ... 1. 1. 1.]]\n",
      "\n",
      " [[1. 1. 1. ... 1. 1. 1.]\n",
      "  [1. 1. 1. ... 1. 1. 1.]\n",
      "  [1. 1. 1. ... 1. 1. 1.]\n",
      "  ...\n",
      "  [1. 1. 1. ... 1. 1. 1.]\n",
      "  [1. 1. 1. ... 1. 1. 1.]\n",
      "  [1. 1. 1. ... 1. 1. 1.]]\n",
      "\n",
      " ...\n",
      "\n",
      " [[1. 1. 1. ... 1. 1. 1.]\n",
      "  [1. 1. 1. ... 1. 1. 1.]\n",
      "  [1. 1. 1. ... 1. 1. 1.]\n",
      "  ...\n",
      "  [1. 1. 1. ... 1. 1. 1.]\n",
      "  [1. 1. 1. ... 1. 1. 1.]\n",
      "  [1. 1. 1. ... 1. 1. 1.]]\n",
      "\n",
      " [[1. 1. 1. ... 1. 1. 1.]\n",
      "  [1. 1. 1. ... 1. 1. 1.]\n",
      "  [1. 1. 1. ... 1. 1. 1.]\n",
      "  ...\n",
      "  [1. 1. 1. ... 1. 1. 1.]\n",
      "  [1. 1. 1. ... 1. 1. 1.]\n",
      "  [1. 1. 1. ... 1. 1. 1.]]\n",
      "\n",
      " [[1. 1. 1. ... 1. 1. 1.]\n",
      "  [1. 1. 1. ... 1. 1. 1.]\n",
      "  [1. 1. 1. ... 1. 1. 1.]\n",
      "  ...\n",
      "  [1. 1. 1. ... 1. 1. 1.]\n",
      "  [1. 1. 1. ... 1. 1. 1.]\n",
      "  [1. 1. 1. ... 1. 1. 1.]]]\n"
     ]
    }
   ],
   "source": [
    "inputs = train_img.reshape(60000, 784)\n",
    "print(train_img)"
   ]
  },
  {
   "cell_type": "code",
   "execution_count": 7,
   "metadata": {},
   "outputs": [
    {
     "name": "stdout",
     "output_type": "stream",
     "text": [
      "5 [0 0 0 0 0 1 0 0 0 0]\n"
     ]
    }
   ],
   "source": [
    "# For encoding categorical variables.\n",
    "import sklearn.preprocessing as pre\n",
    "\n",
    "encoder = pre.LabelBinarizer()\n",
    "encoder.fit(train_lbl)\n",
    "outputs = encoder.transform(train_lbl)\n",
    "\n",
    "print(train_lbl[0], outputs[0])"
   ]
  },
  {
   "cell_type": "code",
   "execution_count": 8,
   "metadata": {},
   "outputs": [
    {
     "name": "stdout",
     "output_type": "stream",
     "text": [
      "0 [[1 0 0 0 0 0 0 0 0 0]]\n",
      "1 [[0 1 0 0 0 0 0 0 0 0]]\n",
      "2 [[0 0 1 0 0 0 0 0 0 0]]\n",
      "3 [[0 0 0 1 0 0 0 0 0 0]]\n",
      "4 [[0 0 0 0 1 0 0 0 0 0]]\n",
      "5 [[0 0 0 0 0 1 0 0 0 0]]\n",
      "6 [[0 0 0 0 0 0 1 0 0 0]]\n",
      "7 [[0 0 0 0 0 0 0 1 0 0]]\n",
      "8 [[0 0 0 0 0 0 0 0 1 0]]\n",
      "9 [[0 0 0 0 0 0 0 0 0 1]]\n"
     ]
    }
   ],
   "source": [
    "for i in range(10):\n",
    "    print(i, encoder.transform([i]))"
   ]
  },
  {
   "cell_type": "code",
   "execution_count": 36,
   "metadata": {},
   "outputs": [
    {
     "name": "stdout",
     "output_type": "stream",
     "text": [
      "Epoch 1/2\n",
      "60000/60000 [==============================] - 13s 209us/step - loss: 0.7478 - acc: 0.7887\n",
      "Epoch 2/2\n",
      "60000/60000 [==============================] - 12s 205us/step - loss: 0.3951 - acc: 0.8856\n"
     ]
    },
    {
     "data": {
      "text/plain": [
       "<keras.callbacks.History at 0x242205b1ba8>"
      ]
     },
     "execution_count": 36,
     "metadata": {},
     "output_type": "execute_result"
    }
   ],
   "source": [
    "model.fit(inputs, outputs, epochs=2, batch_size=100)"
   ]
  },
  {
   "cell_type": "code",
   "execution_count": 10,
   "metadata": {},
   "outputs": [
    {
     "name": "stdout",
     "output_type": "stream",
     "text": [
      "Train on 45000 samples, validate on 15000 samples\n",
      "Epoch 1/20\n",
      "45000/45000 [==============================] - 12s 272us/step - loss: 0.1653 - acc: 0.9530 - val_loss: 0.1744 - val_acc: 0.9514\n",
      "Epoch 2/20\n",
      "45000/45000 [==============================] - 13s 279us/step - loss: 0.1605 - acc: 0.9536 - val_loss: 0.1794 - val_acc: 0.9480\n",
      "Epoch 3/20\n",
      "45000/45000 [==============================] - 12s 274us/step - loss: 0.1552 - acc: 0.9555 - val_loss: 0.1745 - val_acc: 0.9497\n",
      "Epoch 4/20\n",
      "45000/45000 [==============================] - 12s 273us/step - loss: 0.1501 - acc: 0.9572 - val_loss: 0.1668 - val_acc: 0.9515\n",
      "Epoch 5/20\n",
      "45000/45000 [==============================] - 12s 272us/step - loss: 0.1456 - acc: 0.9582 - val_loss: 0.1634 - val_acc: 0.9531\n",
      "Epoch 6/20\n",
      "45000/45000 [==============================] - 12s 269us/step - loss: 0.1415 - acc: 0.9594 - val_loss: 0.1568 - val_acc: 0.9551\n",
      "Epoch 7/20\n",
      "45000/45000 [==============================] - 12s 269us/step - loss: 0.1369 - acc: 0.9616 - val_loss: 0.1545 - val_acc: 0.9561\n",
      "Epoch 8/20\n",
      "45000/45000 [==============================] - 12s 273us/step - loss: 0.1335 - acc: 0.9612 - val_loss: 0.1497 - val_acc: 0.9567\n",
      "Epoch 9/20\n",
      "45000/45000 [==============================] - 12s 270us/step - loss: 0.1303 - acc: 0.9625 - val_loss: 0.1463 - val_acc: 0.9577\n",
      "Epoch 10/20\n",
      "45000/45000 [==============================] - 12s 274us/step - loss: 0.1263 - acc: 0.9637 - val_loss: 0.1477 - val_acc: 0.9571\n",
      "Epoch 11/20\n",
      "45000/45000 [==============================] - 12s 268us/step - loss: 0.1235 - acc: 0.9651 - val_loss: 0.1513 - val_acc: 0.9573\n",
      "Epoch 12/20\n",
      "45000/45000 [==============================] - 12s 268us/step - loss: 0.1201 - acc: 0.9665 - val_loss: 0.1391 - val_acc: 0.9600\n",
      "Epoch 13/20\n",
      "45000/45000 [==============================] - 12s 268us/step - loss: 0.1172 - acc: 0.9667 - val_loss: 0.1375 - val_acc: 0.9597\n",
      "Epoch 14/20\n",
      "45000/45000 [==============================] - 12s 260us/step - loss: 0.1146 - acc: 0.9674 - val_loss: 0.1360 - val_acc: 0.9611\n",
      "Epoch 15/20\n",
      "45000/45000 [==============================] - 12s 274us/step - loss: 0.1119 - acc: 0.9685 - val_loss: 0.1345 - val_acc: 0.9621\n",
      "Epoch 16/20\n",
      "45000/45000 [==============================] - 12s 272us/step - loss: 0.1089 - acc: 0.9696 - val_loss: 0.1327 - val_acc: 0.9609\n",
      "Epoch 17/20\n",
      "45000/45000 [==============================] - 12s 265us/step - loss: 0.1065 - acc: 0.9698 - val_loss: 0.1341 - val_acc: 0.9624\n",
      "Epoch 18/20\n",
      "45000/45000 [==============================] - 12s 262us/step - loss: 0.1042 - acc: 0.9707 - val_loss: 0.1280 - val_acc: 0.9629\n",
      "Epoch 19/20\n",
      "45000/45000 [==============================] - 12s 259us/step - loss: 0.1019 - acc: 0.9716 - val_loss: 0.1304 - val_acc: 0.9617\n",
      "Epoch 20/20\n",
      "45000/45000 [==============================] - 12s 261us/step - loss: 0.0997 - acc: 0.9717 - val_loss: 0.1294 - val_acc: 0.9611\n"
     ]
    },
    {
     "data": {
      "image/png": "[encoded data removed]",
      "text/plain": [
       "<Figure size 432x288 with 1 Axes>"
      ]
     },
     "metadata": {
      "needs_background": "light"
     },
     "output_type": "display_data"
    },
    {
     "data": {
      "image/png": "[encoded data removed]",
      "text/plain": [
       "<Figure size 432x288 with 1 Axes>"
      ]
     },
     "metadata": {
      "needs_background": "light"
     },
     "output_type": "display_data"
    }
   ],
   "source": [
    "import matplotlib.pyplot as plt\n",
    "\n",
    "training = model.fit(inputs, outputs, validation_split=0.25, epochs=20, batch_size=100, verbose=1)\n",
    "\n",
    "# Plot training & validation accuracy values\n",
    "plt.plot(training.history['acc'])\n",
    "plt.plot(training.history['val_acc'])\n",
    "plt.title('Model accuracy')\n",
    "plt.ylabel('Accuracy')\n",
    "plt.xlabel('Epoch')\n",
    "plt.legend(['Train', 'Test'], loc='lower right')\n",
    "plt.show()\n",
    "\n",
    "plt.plot(training.history['loss'])\n",
    "plt.plot(training.history['val_loss'])\n",
    "plt.title('Model Loss')\n",
    "plt.ylabel('Loss')\n",
    "plt.xlabel('Epoch')\n",
    "plt.legend(['Train', 'Test'], loc='upper left')\n",
    "plt.show()"
   ]
  },
  {
   "cell_type": "code",
   "execution_count": 11,
   "metadata": {},
   "outputs": [],
   "source": [
    "with gzip.open('t10k-images-idx3-ubyte.gz', 'rb') as f:\n",
    "    test_img = f.read()\n",
    "\n",
    "with gzip.open('t10k-labels-idx1-ubyte.gz', 'rb') as f:\n",
    "    test_lbl = f.read()\n",
    "    \n",
    "test_img = ~np.array(list(test_img[16:])).reshape(10000, 784).astype(np.uint8) / 255.0\n",
    "test_lbl =  np.array(list(test_lbl[ 8:])).astype(np.uint8)"
   ]
  },
  {
   "cell_type": "code",
   "execution_count": 12,
   "metadata": {},
   "outputs": [
    {
     "data": {
      "text/plain": [
       "8985"
      ]
     },
     "execution_count": 12,
     "metadata": {},
     "output_type": "execute_result"
    }
   ],
   "source": [
    "(encoder.inverse_transform(model.predict(test_img)) == test_lbl).sum()"
   ]
  },
  {
   "cell_type": "code",
   "execution_count": 13,
   "metadata": {},
   "outputs": [
    {
     "data": {
      "text/plain": [
       "array([[1.5429021e-05, 9.6844000e-01, 1.1015500e-02, 7.7242730e-03,\n",
       "        7.3000447e-05, 3.0352670e-04, 2.1726568e-04, 4.9345144e-03,\n",
       "        5.9866104e-03, 1.2898021e-03]], dtype=float32)"
      ]
     },
     "execution_count": 13,
     "metadata": {},
     "output_type": "execute_result"
    }
   ],
   "source": [
    "model.predict(test_img[5:6])"
   ]
  },
  {
   "cell_type": "code",
   "execution_count": 18,
   "metadata": {},
   "outputs": [
    {
     "data": {
      "text/plain": [
       "<matplotlib.image.AxesImage at 0x24219fe3898>"
      ]
     },
     "execution_count": 18,
     "metadata": {},
     "output_type": "execute_result"
    },
    {
     "data": {
      "image/png": "[encoded data removed]",
      "text/plain": [
       "<Figure size 432x288 with 1 Axes>"
      ]
     },
     "metadata": {
      "needs_background": "light"
     },
     "output_type": "display_data"
    }
   ],
   "source": [
    "import matplotlib.pyplot as plt\n",
    "\n",
    "plt.imshow(test_img[5].reshape(28, 28), cmap='gray')"
   ]
  },
  {
   "cell_type": "code",
   "execution_count": 25,
   "metadata": {},
   "outputs": [
    {
     "name": "stdout",
     "output_type": "stream",
     "text": [
      "Downloading data from https://s3.amazonaws.com/img-datasets/mnist.npz\n",
      "11493376/11490434 [==============================] - 114s 10us/step\n",
      "x_train shape: (60000, 28, 28, 1)\n",
      "60000 train samples\n",
      "10000 test samples\n",
      "Train on 60000 samples, validate on 10000 samples\n",
      "Epoch 1/10\n",
      " - 204s - loss: 0.1662 - acc: 0.9495 - val_loss: 0.0407 - val_acc: 0.9863\n",
      "Epoch 2/10\n",
      " - 204s - loss: 0.0439 - acc: 0.9860 - val_loss: 0.0295 - val_acc: 0.9903\n",
      "Epoch 3/10\n",
      " - 212s - loss: 0.0295 - acc: 0.9904 - val_loss: 0.0248 - val_acc: 0.9913\n",
      "Epoch 4/10\n",
      " - 209s - loss: 0.0216 - acc: 0.9934 - val_loss: 0.0232 - val_acc: 0.9924\n",
      "Epoch 5/10\n",
      " - 212s - loss: 0.0182 - acc: 0.9944 - val_loss: 0.0224 - val_acc: 0.9922\n",
      "Epoch 6/10\n",
      " - 207s - loss: 0.0148 - acc: 0.9950 - val_loss: 0.0284 - val_acc: 0.9920\n",
      "Epoch 7/10\n",
      " - 199s - loss: 0.0129 - acc: 0.9960 - val_loss: 0.0300 - val_acc: 0.9907\n",
      "Epoch 8/10\n",
      " - 186s - loss: 0.0107 - acc: 0.9964 - val_loss: 0.0263 - val_acc: 0.9918\n",
      "Epoch 9/10\n",
      " - 184s - loss: 0.0101 - acc: 0.9968 - val_loss: 0.0261 - val_acc: 0.9934\n",
      "Epoch 10/10\n",
      " - 190s - loss: 0.0079 - acc: 0.9976 - val_loss: 0.0293 - val_acc: 0.9930\n",
      "10000/10000 [==============================] - 10s 1ms/step\n",
      "Test loss: 0.029334075057844713\n",
      "Test accuracy: 0.993\n"
     ]
    }
   ],
   "source": [
    "%run -i \"Digit-Recog.py\""
   ]
  },
  {
   "cell_type": "code",
   "execution_count": null,
   "metadata": {},
   "outputs": [],
   "source": []
  }
 ],
 "metadata": {
  "kernelspec": {
   "display_name": "Python 3",
   "language": "python",
   "name": "python3"
  },
  "language_info": {
   "codemirror_mode": {
    "name": "ipython",
    "version": 3
   },
   "file_extension": ".py",
   "mimetype": "text/x-python",
   "name": "python",
   "nbconvert_exporter": "python",
   "pygments_lexer": "ipython3",
   "version": "3.6.7"
  }
 },
 "nbformat": 4,
 "nbformat_minor": 2
}
