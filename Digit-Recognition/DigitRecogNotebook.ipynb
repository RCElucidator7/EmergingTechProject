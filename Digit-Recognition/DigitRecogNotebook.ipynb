{
 "cells": [
  {
   "cell_type": "markdown",
   "metadata": {},
   "source": [
    "# <b>Digital Recognition Notebook</b>\n",
    "\n",
    "In this notebook we will look into digit recognition with the keras plug-in. We will use the MNIST data set to first train the neural network and then we will input out own image to see if it will recognise that. With this we hope that it will recognise the digit correctly and display the results to the user."
   ]
  },
  {
   "cell_type": "markdown",
   "metadata": {},
   "source": [
    "## Setting up the Neural Network\n",
    "\n",
    "To set up the initial neural network, we'll need to use the numpy package that we've used before to store the data into an array. We also need to import the keras package to create the network.\n",
    "\n",
    "#### Keras\n",
    "Keras is a high-level neural networks API, written in Python and capable of running on top of TensorFlow, CNTK, or Theano. It was developed with a focus on enabling fast experimentation. Being able to go from idea to result with the least possible delay is key to doing good research. [1]\n",
    "\n",
    "#### Creating neural network\n",
    "The core data structure of Keras is a model, a way to organize layers. The simplest type of model is the Sequential model, a linear stack of layers. With this, we then add layers onto the model and configure its learning process with a compile. [2]"
   ]
  },
  {
   "cell_type": "code",
   "execution_count": 9,
   "metadata": {},
   "outputs": [],
   "source": [
    "# import keras packages\n",
    "# NOTE: To import the keras package you must install tensorflow - which can be found here: https://www.tensorflow.org/install/\n",
    "import keras as kr\n",
    "\n",
    "# Create the sequential model\n",
    "model = kr.models.Sequential()\n",
    "\n",
    "# Add layers to the model\n",
    "model.add(kr.layers.Dense(units=1000, activation='linear', input_dim=784))\n",
    "model.add(kr.layers.Dense(units=400, activation='relu'))\n",
    "model.add(kr.layers.Dense(units=10, activation='softmax'))\n",
    "\n",
    "# Compile the model\n",
    "model.compile(loss='categorical_crossentropy', optimizer='sgd', metrics=['accuracy'])"
   ]
  },
  {
   "cell_type": "markdown",
   "metadata": {},
   "source": [
    "We set up an input layer of 784 neurons, one for each value in the 28x28 array, with a hidden layer of 1000 neurons and a linear activation function.\n",
    "(NOTE: the below graph shows a 100 neuron hidden layer whereas we are using a 1000 neuron hidden layer).\n",
    "\n",
    "We set up an output layer with 10 neurons, one for each value ranging from 0-9."
   ]
  },
  {
   "cell_type": "markdown",
   "metadata": {},
   "source": [
    "<img src=\"https://3.bp.blogspot.com/-mDyzBzA4btg/V4_Z0f2mc7I/AAAAAAAAE3M/dtU8hT661fQWtnRC_JvIH_4qifQomZ4PACLcB/s1600/MNIST_neuralnet_image.png\">\n",
    "[3]"
   ]
  },
  {
   "cell_type": "markdown",
   "metadata": {},
   "source": [
    "## Importing the dataset\n",
    "\n",
    "Now that we have our neural network set up, we can import the MNIST data set so we can train our neural network. As we've done before in the MNIST notebook, we just import the gzip package to open the data set files, and store these byte values into an int array using numpy."
   ]
  },
  {
   "cell_type": "code",
   "execution_count": 2,
   "metadata": {},
   "outputs": [],
   "source": [
    "# Import the gzip and numpy packages\n",
    "import gzip\n",
    "import numpy as np\n",
    "\n",
    "# This opens the images file which is located in our local directory and assigns the read in value to a variable\n",
    "with gzip.open('data/t10k-images-idx3-ubyte.gz', 'rb') as f:\n",
    "    image_content = f.read()\n",
    "    \n",
    "# This opens the label file which is located in our local directory and assigns the read in value to a variable\n",
    "with gzip.open('data/t10k-labels-idx1-ubyte.gz', 'rb') as f:\n",
    "    label_content = f.read()\n",
    "    \n",
    "# This opens the training images file which is located in our local directory and assigns the read in value to a variable\n",
    "with gzip.open('data/train-images-idx3-ubyte.gz', 'rb') as f:\n",
    "    train_img = f.read()\n",
    "\n",
    "# This opens the training label file which is located in our local directory and assigns the read in value to a variable\n",
    "with gzip.open('data/train-labels-idx1-ubyte.gz', 'rb') as f:\n",
    "    train_lbl = f.read()\n",
    "    \n",
    "# Assign the training data set to a numpy array holding all the values in a 28x28 array\n",
    "train_img = ~np.array(list(train_img[16:])).reshape(60000, 28, 28).astype(np.uint8) / 255.0\n",
    "# Assign the training label data set to a numpy array\n",
    "train_lbl =  np.array(list(train_lbl[8:])).astype(np.uint8)"
   ]
  },
  {
   "cell_type": "markdown",
   "metadata": {},
   "source": [
    "Now that we have the training set assigned to an array, we can also assign the test set to an array. Below I will also show the bytes as 1s and 0s as an array."
   ]
  },
  {
   "cell_type": "code",
   "execution_count": 3,
   "metadata": {},
   "outputs": [
    {
     "name": "stdout",
     "output_type": "stream",
     "text": [
      "[[0 0 0 0 0 0 0 0 0 0 0 0 0 0 0 0 0 0 0 0 0 0 0 0 0 0 0 0]\n",
      " [0 0 0 0 0 0 0 0 0 0 0 0 0 0 0 0 0 0 0 0 0 0 0 0 0 0 0 0]\n",
      " [0 0 0 0 0 0 0 0 0 0 0 0 0 0 0 0 0 0 0 0 0 0 0 0 0 0 0 0]\n",
      " [0 0 0 0 0 0 0 0 0 0 0 0 0 0 0 0 0 0 0 0 0 0 0 0 0 0 0 0]\n",
      " [0 0 0 0 0 0 0 0 0 0 0 0 0 0 0 0 0 0 0 0 0 0 0 0 0 0 0 0]\n",
      " [0 0 0 0 0 0 0 0 0 0 0 0 0 0 0 0 0 0 0 0 0 0 0 0 0 0 0 0]\n",
      " [0 0 0 0 0 0 0 0 0 0 0 0 0 0 0 0 0 0 0 0 0 0 0 0 0 0 0 0]\n",
      " [0 0 0 0 0 0 1 1 1 1 1 1 0 0 0 0 0 0 0 0 0 0 0 0 0 0 0 0]\n",
      " [0 0 0 0 0 0 1 1 1 1 1 1 1 1 1 1 1 1 1 1 1 1 0 0 0 0 0 0]\n",
      " [0 0 0 0 0 0 1 1 1 1 1 1 1 1 1 1 1 1 1 1 1 1 0 0 0 0 0 0]\n",
      " [0 0 0 0 0 0 0 0 0 0 0 1 1 1 1 1 1 1 1 1 1 1 0 0 0 0 0 0]\n",
      " [0 0 0 0 0 0 0 0 0 0 0 0 0 0 0 0 0 0 1 1 1 1 0 0 0 0 0 0]\n",
      " [0 0 0 0 0 0 0 0 0 0 0 0 0 0 0 0 0 1 1 1 1 0 0 0 0 0 0 0]\n",
      " [0 0 0 0 0 0 0 0 0 0 0 0 0 0 0 0 0 1 1 1 1 0 0 0 0 0 0 0]\n",
      " [0 0 0 0 0 0 0 0 0 0 0 0 0 0 0 0 1 1 1 1 0 0 0 0 0 0 0 0]\n",
      " [0 0 0 0 0 0 0 0 0 0 0 0 0 0 0 0 1 1 1 1 0 0 0 0 0 0 0 0]\n",
      " [0 0 0 0 0 0 0 0 0 0 0 0 0 0 0 1 1 1 1 0 0 0 0 0 0 0 0 0]\n",
      " [0 0 0 0 0 0 0 0 0 0 0 0 0 0 0 1 1 1 0 0 0 0 0 0 0 0 0 0]\n",
      " [0 0 0 0 0 0 0 0 0 0 0 0 0 0 1 1 1 1 0 0 0 0 0 0 0 0 0 0]\n",
      " [0 0 0 0 0 0 0 0 0 0 0 0 0 1 1 1 1 0 0 0 0 0 0 0 0 0 0 0]\n",
      " [0 0 0 0 0 0 0 0 0 0 0 0 1 1 1 1 1 0 0 0 0 0 0 0 0 0 0 0]\n",
      " [0 0 0 0 0 0 0 0 0 0 0 0 1 1 1 1 0 0 0 0 0 0 0 0 0 0 0 0]\n",
      " [0 0 0 0 0 0 0 0 0 0 0 1 1 1 1 1 0 0 0 0 0 0 0 0 0 0 0 0]\n",
      " [0 0 0 0 0 0 0 0 0 0 0 1 1 1 1 0 0 0 0 0 0 0 0 0 0 0 0 0]\n",
      " [0 0 0 0 0 0 0 0 0 0 1 1 1 1 1 0 0 0 0 0 0 0 0 0 0 0 0 0]\n",
      " [0 0 0 0 0 0 0 0 0 0 1 1 1 1 1 0 0 0 0 0 0 0 0 0 0 0 0 0]\n",
      " [0 0 0 0 0 0 0 0 0 0 1 1 1 1 0 0 0 0 0 0 0 0 0 0 0 0 0 0]\n",
      " [0 0 0 0 0 0 0 0 0 0 0 0 0 0 0 0 0 0 0 0 0 0 0 0 0 0 0 0]]\n"
     ]
    }
   ],
   "source": [
    "# Assign the data set to a numpy array holding all the values in a 28x28 array\n",
    "image_test = ~np.array(list(image_content[16:])).reshape(10000,28,28).astype(np.uint8)\n",
    "\n",
    "# Assign the label data set to a numpy array\n",
    "label_test =  np.array(list(label_content[8:])).astype(np.uint8)\n",
    "\n",
    "# Display the bytes as 1s and 0s in an array\n",
    "print((~image_test[0]).astype(np.bool).astype(np.uint8))"
   ]
  },
  {
   "cell_type": "markdown",
   "metadata": {},
   "source": [
    "## Flattening the array\n",
    "With our training array with a size of 60000 with a 28x28 array at each of these values we have a 3 Dimensional array. But to input our values into the neural network we need a 1 Dimensional array were all the values are sequentially stored after eachother. To do this, we just need to reshape the array again to the size we want."
   ]
  },
  {
   "cell_type": "code",
   "execution_count": 4,
   "metadata": {},
   "outputs": [
    {
     "name": "stdout",
     "output_type": "stream",
     "text": [
      "[[1. 1. 1. ... 1. 1. 1.]\n",
      " [1. 1. 1. ... 1. 1. 1.]\n",
      " [1. 1. 1. ... 1. 1. 1.]\n",
      " ...\n",
      " [1. 1. 1. ... 1. 1. 1.]\n",
      " [1. 1. 1. ... 1. 1. 1.]\n",
      " [1. 1. 1. ... 1. 1. 1.]]\n"
     ]
    }
   ],
   "source": [
    "# Reshape the 3D array into a 1D array\n",
    "inputs = train_img.reshape(60000, 784)\n",
    "# Print the 1D array of inputs\n",
    "print(inputs)"
   ]
  },
  {
   "cell_type": "markdown",
   "metadata": {},
   "source": [
    "## Encoding the label data\n",
    "The label data needs to be encoded into a matrix of 10x10. To do this we convert the data into binary format. So first we set up the binary encoder, then pass in the label values and fit them into the matrix as the label values are 0-9 so they fit into the 10x10 matrix. The labels are then transformed into the binary format, where each label number indicates the value of the number and the binary format displays its position."
   ]
  },
  {
   "cell_type": "code",
   "execution_count": 5,
   "metadata": {},
   "outputs": [
    {
     "name": "stdout",
     "output_type": "stream",
     "text": [
      "9 [0 0 0 0 0 0 0 0 0 1]\n"
     ]
    }
   ],
   "source": [
    "# For encoding categorical variables.\n",
    "import sklearn.preprocessing as pre\n",
    "\n",
    "# set up the binary encoder\n",
    "encoder = pre.LabelBinarizer()\n",
    "# fit the labels into the binary format\n",
    "encoder.fit(train_lbl)\n",
    "# Transform the labels to the binary format\n",
    "outputs = encoder.transform(train_lbl)\n",
    "\n",
    "# Print the labels position and the binary array in the same position\n",
    "# Result should show the label number 5 and a 1 in the 6th position to indicate the number 5 (0-9)\n",
    "print(train_lbl[19], outputs[19])"
   ]
  },
  {
   "cell_type": "code",
   "execution_count": 6,
   "metadata": {},
   "outputs": [
    {
     "name": "stdout",
     "output_type": "stream",
     "text": [
      "0 [[1 0 0 0 0 0 0 0 0 0]]\n",
      "1 [[0 1 0 0 0 0 0 0 0 0]]\n",
      "2 [[0 0 1 0 0 0 0 0 0 0]]\n",
      "3 [[0 0 0 1 0 0 0 0 0 0]]\n",
      "4 [[0 0 0 0 1 0 0 0 0 0]]\n",
      "5 [[0 0 0 0 0 1 0 0 0 0]]\n",
      "6 [[0 0 0 0 0 0 1 0 0 0]]\n",
      "7 [[0 0 0 0 0 0 0 1 0 0]]\n",
      "8 [[0 0 0 0 0 0 0 0 1 0]]\n",
      "9 [[0 0 0 0 0 0 0 0 0 1]]\n"
     ]
    }
   ],
   "source": [
    "for i in range(10):\n",
    "    print(i, encoder.transform([i]))"
   ]
  },
  {
   "cell_type": "markdown",
   "metadata": {},
   "source": [
    "Now to train our neural network, we need to train it. To do this we use the keras fit() method which will train  the model for a given number of epochs (iterations on a dataset). [4]\n",
    "\n",
    "For our model we are going to pass in four parameters:\n",
    "    <li>Inputs:    \n",
    "    Numpy array of training data.\n",
    "    </li>\n",
    "    <li>Outputs:      \n",
    "    Numpy array of label data\n",
    "    </li>\n",
    "    <li>Epoch:      \n",
    "    Number of epochs to train the model. An epoch is an \n",
    "    iteration over the entire x and y data provided. </li>\n",
    "    <li>Batch_size:       \n",
    "    The amount of data we want to test at one time.\n",
    "    </li>\n",
    "    \n",
    "    \n",
    "For the below example, we will use the training set that we set up above. We will have a batch size of 100 and an epoch size of 2. With our batch size quite large and such a small epoch size we dont expect to have a high accuracy as we are not training the model enough."
   ]
  },
  {
   "cell_type": "code",
   "execution_count": 7,
   "metadata": {},
   "outputs": [
    {
     "name": "stdout",
     "output_type": "stream",
     "text": [
      "Epoch 1/2\n",
      "60000/60000 [==============================] - 16s 264us/step - loss: 0.7713 - acc: 0.7814\n",
      "Epoch 2/2\n",
      "60000/60000 [==============================] - 16s 262us/step - loss: 0.4014 - acc: 0.8845\n"
     ]
    },
    {
     "data": {
      "text/plain": [
       "<keras.callbacks.History at 0x22ec59ea9b0>"
      ]
     },
     "execution_count": 7,
     "metadata": {},
     "output_type": "execute_result"
    }
   ],
   "source": [
    "model.fit(inputs, outputs, epochs=2, batch_size=100)"
   ]
  },
  {
   "cell_type": "markdown",
   "metadata": {},
   "source": [
    "With the above example working we can work with a bigger epoch size to get better accuracy with our results. We can also use the Matplotlib package to graph our results and see how more accurate the neural network gets every iteration (epoch)."
   ]
  },
  {
   "cell_type": "code",
   "execution_count": 10,
   "metadata": {},
   "outputs": [
    {
     "name": "stdout",
     "output_type": "stream",
     "text": [
      "Train on 45000 samples, validate on 15000 samples\n",
      "Epoch 1/20\n",
      "45000/45000 [==============================] - 14s 306us/step - loss: 0.8567 - acc: 0.7572 - val_loss: 0.5220 - val_acc: 0.8415\n",
      "Epoch 2/20\n",
      "45000/45000 [==============================] - 14s 313us/step - loss: 0.4341 - acc: 0.8754 - val_loss: 0.3614 - val_acc: 0.8975\n",
      "Epoch 3/20\n",
      "45000/45000 [==============================] - 14s 309us/step - loss: 0.3749 - acc: 0.8921 - val_loss: 0.3411 - val_acc: 0.9013\n",
      "Epoch 4/20\n",
      "45000/45000 [==============================] - 13s 282us/step - loss: 0.3443 - acc: 0.8987 - val_loss: 0.3390 - val_acc: 0.8986\n",
      "Epoch 5/20\n",
      "45000/45000 [==============================] - 13s 284us/step - loss: 0.3228 - acc: 0.9051 - val_loss: 0.2987 - val_acc: 0.9145\n",
      "Epoch 6/20\n",
      "45000/45000 [==============================] - 13s 281us/step - loss: 0.3055 - acc: 0.9113 - val_loss: 0.3045 - val_acc: 0.9089\n",
      "Epoch 7/20\n",
      "45000/45000 [==============================] - 13s 281us/step - loss: 0.2915 - acc: 0.9148 - val_loss: 0.2747 - val_acc: 0.9205\n",
      "Epoch 8/20\n",
      "45000/45000 [==============================] - 13s 283us/step - loss: 0.2787 - acc: 0.9181 - val_loss: 0.2821 - val_acc: 0.9198\n",
      "Epoch 9/20\n",
      "45000/45000 [==============================] - 13s 280us/step - loss: 0.2672 - acc: 0.9226 - val_loss: 0.2613 - val_acc: 0.9238\n",
      "Epoch 10/20\n",
      "45000/45000 [==============================] - 13s 281us/step - loss: 0.2562 - acc: 0.9258 - val_loss: 0.2710 - val_acc: 0.9175\n",
      "Epoch 11/20\n",
      "45000/45000 [==============================] - 12s 276us/step - loss: 0.2448 - acc: 0.9293 - val_loss: 0.2393 - val_acc: 0.9306\n",
      "Epoch 12/20\n",
      "45000/45000 [==============================] - 13s 278us/step - loss: 0.2354 - acc: 0.9320 - val_loss: 0.2402 - val_acc: 0.9317\n",
      "Epoch 13/20\n",
      "45000/45000 [==============================] - 12s 276us/step - loss: 0.2273 - acc: 0.9341 - val_loss: 0.2297 - val_acc: 0.9345\n",
      "Epoch 14/20\n",
      "45000/45000 [==============================] - 13s 279us/step - loss: 0.2179 - acc: 0.9370 - val_loss: 0.2222 - val_acc: 0.9362\n",
      "Epoch 15/20\n",
      "45000/45000 [==============================] - 12s 274us/step - loss: 0.2099 - acc: 0.9396 - val_loss: 0.2149 - val_acc: 0.9386\n",
      "Epoch 16/20\n",
      "45000/45000 [==============================] - 12s 274us/step - loss: 0.2022 - acc: 0.9415 - val_loss: 0.2185 - val_acc: 0.9362\n",
      "Epoch 17/20\n",
      "45000/45000 [==============================] - 12s 271us/step - loss: 0.1957 - acc: 0.9436 - val_loss: 0.2025 - val_acc: 0.9415\n",
      "Epoch 18/20\n",
      "45000/45000 [==============================] - 12s 270us/step - loss: 0.1884 - acc: 0.9459 - val_loss: 0.2009 - val_acc: 0.9415\n",
      "Epoch 19/20\n",
      "45000/45000 [==============================] - 12s 268us/step - loss: 0.1818 - acc: 0.9486 - val_loss: 0.1878 - val_acc: 0.9476\n",
      "Epoch 20/20\n",
      "45000/45000 [==============================] - 12s 269us/step - loss: 0.1757 - acc: 0.9498 - val_loss: 0.1917 - val_acc: 0.9439\n"
     ]
    },
    {
     "data": {
      "image/png": "[encoded data removed]",
      "text/plain": [
       "<Figure size 432x288 with 1 Axes>"
      ]
     },
     "metadata": {
      "needs_background": "light"
     },
     "output_type": "display_data"
    },
    {
     "data": {
      "image/png": "[encoded data removed]",
      "text/plain": [
       "<Figure size 432x288 with 1 Axes>"
      ]
     },
     "metadata": {
      "needs_background": "light"
     },
     "output_type": "display_data"
    }
   ],
   "source": [
    "# Import the matplotlib package\n",
    "import matplotlib.pyplot as plt\n",
    "\n",
    "# Train the model and assign it to a variable so we can use it to plot our data\n",
    "training = model.fit(inputs, outputs, epochs=20, validation_split=0.25, batch_size=100, verbose=1)\n",
    "\n",
    "#NOTE: If graph doesnt show after first run, rerun the initial model set up at the top and rerun this block again\n",
    "\n",
    "# Plot training & validation accuracy values\n",
    "plt.plot(training.history['acc'])\n",
    "plt.plot(training.history['val_acc'])\n",
    "plt.title('Model accuracy')\n",
    "plt.ylabel('Accuracy')\n",
    "plt.xlabel('Epoch')\n",
    "plt.legend(['Train', 'Test'], loc='lower right')\n",
    "plt.show()\n",
    "\n",
    "# Plot training & validation loss values\n",
    "plt.plot(training.history['loss'])\n",
    "plt.plot(training.history['val_loss'])\n",
    "plt.title('Model Loss')\n",
    "plt.ylabel('Loss')\n",
    "plt.xlabel('Epoch')\n",
    "plt.legend(['Train', 'Test'], loc='upper left')\n",
    "plt.show()"
   ]
  },
  {
   "cell_type": "markdown",
   "metadata": {},
   "source": [
    "## Uploading an image\n",
    "\n",
    "With the model trained we can now upload our own image file and test it against our neural network. We can use TkInter to upload the photo we want. Tkinter is a Python binding to the Tk GUI toolkit so we can use the GUI to upload our image [5]. Below code is adapted from <a href=\"https://stackoverflow.com/questions/9319317/quick-and-easy-file-dialog-in-python\">here</a>. "
   ]
  },
  {
   "cell_type": "code",
   "execution_count": 12,
   "metadata": {},
   "outputs": [
    {
     "name": "stdout",
     "output_type": "stream",
     "text": [
      "Nerual networks prediction:  [7]\n"
     ]
    }
   ],
   "source": [
    "# Import image from keras to load in the image, and TkInter for locating the image you wish to upload\n",
    "from keras.preprocessing import image\n",
    "import tkinter as tk\n",
    "from tkinter import filedialog\n",
    "\n",
    "root = tk.Tk()\n",
    "root.withdraw()\n",
    "# Open the GUI for the user to select an image\n",
    "file_path = filedialog.askopenfilename()\n",
    "# Convert image to prefered size\n",
    "uploaded_image = image.load_img(path=file_path,color_mode = \"grayscale\",target_size=(28,28,1))\n",
    "# Convert image into numpy array\n",
    "img_data = np.array(list(image.img_to_array(uploaded_image))).reshape(1, 784).astype(np.uint8) / 255.0\n",
    "# Predict the number on the image\n",
    "img_predict = model.predict(img_data)\n",
    "# Print prediction\n",
    "print(\"Nerual networks prediction: \", img_predict.argmax(axis=1))"
   ]
  },
  {
   "cell_type": "markdown",
   "metadata": {},
   "source": [
    "## Running the python file\n",
    "\n",
    "To run the python file just execute the below line of code. This is a full program of what I have shown above with menu options 1-5 of things the user can do with the neural network:\n",
    "\n",
    "<ul>\n",
    "    <li>1: Test 10 random images from the test set.</li>\n",
    "    <li>2: Test a given number of random images from the test set.</li>\n",
    "    <li>3: Retrain the neural network.</li>\n",
    "    <li>4: Retrain the neural network with your own epoch and batch_size values.</li>\n",
    "    <li>5: Upload an image to be recognised.</li>\n",
    "</ul>"
   ]
  },
  {
   "cell_type": "code",
   "execution_count": null,
   "metadata": {},
   "outputs": [
    {
     "name": "stdout",
     "output_type": "stream",
     "text": [
      "Epoch 1/20\n",
      "60000/60000 [==============================] - 10s 171us/step - loss: 0.7919 - acc: 0.7776\n",
      "Epoch 2/20\n",
      "60000/60000 [==============================] - 10s 169us/step - loss: 0.4350 - acc: 0.8778\n",
      "Epoch 3/20\n",
      "60000/60000 [==============================] - 10s 170us/step - loss: 0.3847 - acc: 0.8905\n",
      "Epoch 4/20\n",
      "60000/60000 [==============================] - 10s 170us/step - loss: 0.3594 - acc: 0.8963\n",
      "Epoch 5/20\n",
      "60000/60000 [==============================] - 10s 174us/step - loss: 0.3441 - acc: 0.9011\n",
      "Epoch 6/20\n",
      "60000/60000 [==============================] - 10s 173us/step - loss: 0.3352 - acc: 0.9032\n",
      "Epoch 7/20\n",
      "60000/60000 [==============================] - 10s 174us/step - loss: 0.3272 - acc: 0.9053\n",
      "Epoch 8/20\n",
      "60000/60000 [==============================] - 10s 169us/step - loss: 0.3208 - acc: 0.9076\n",
      "Epoch 9/20\n",
      "60000/60000 [==============================] - 11s 176us/step - loss: 0.3161 - acc: 0.9093\n",
      "Epoch 10/20\n",
      "60000/60000 [==============================] - 10s 173us/step - loss: 0.3122 - acc: 0.9107\n",
      "Epoch 11/20\n",
      "60000/60000 [==============================] - 11s 177us/step - loss: 0.3082 - acc: 0.9112\n",
      "Epoch 12/20\n",
      "60000/60000 [==============================] - 10s 166us/step - loss: 0.3056 - acc: 0.9122\n",
      "Epoch 13/20\n",
      "60000/60000 [==============================] - 10s 167us/step - loss: 0.3035 - acc: 0.9128\n",
      "Epoch 14/20\n",
      "60000/60000 [==============================] - 10s 166us/step - loss: 0.3006 - acc: 0.9135\n",
      "Epoch 15/20\n",
      "60000/60000 [==============================] - 10s 163us/step - loss: 0.2982 - acc: 0.9147\n",
      "Epoch 16/20\n",
      "60000/60000 [==============================] - 10s 162us/step - loss: 0.2971 - acc: 0.9153\n",
      "Epoch 17/20\n",
      "60000/60000 [==============================] - 10s 162us/step - loss: 0.2951 - acc: 0.9161\n",
      "Epoch 18/20\n",
      "60000/60000 [==============================] - 10s 163us/step - loss: 0.2947 - acc: 0.9159\n",
      "Epoch 19/20\n",
      "60000/60000 [==============================] - 10s 162us/step - loss: 0.2919 - acc: 0.9167\n",
      "Epoch 20/20\n",
      "60000/60000 [==============================] - 10s 162us/step - loss: 0.2910 - acc: 0.9171\n"
     ]
    },
    {
     "name": "stdin",
     "output_type": "stream",
     "text": [
      "Please Select a menu option: \n",
      "1 - Test 10 random images from the test set. \n",
      "2 - Test a given number of random images from the test set. \n",
      "3 - Retrain the neural network. \n",
      "4 - Retrain the neural network with your own epoch and batch_size values. \n",
      "5 - Upload an image to be recognised. \n",
      "-1 to exit 1\n"
     ]
    },
    {
     "name": "stdout",
     "output_type": "stream",
     "text": [
      "Test Number :  1\n",
      "Index in dataset (Randomly generated):  6277\n",
      "The networks prediction: ====>  [5]\n",
      "The actual number: ====>  [5]\n",
      "--------------------------------------------\n",
      "\n",
      "Test Number :  2\n",
      "Index in dataset (Randomly generated):  3007\n",
      "The networks prediction: ====>  [5]\n",
      "The actual number: ====>  [5]\n",
      "--------------------------------------------\n",
      "\n",
      "Test Number :  3\n",
      "Index in dataset (Randomly generated):  2085\n",
      "The networks prediction: ====>  [2]\n",
      "The actual number: ====>  [2]\n",
      "--------------------------------------------\n",
      "\n",
      "Test Number :  4\n",
      "Index in dataset (Randomly generated):  350\n",
      "The networks prediction: ====>  [1]\n",
      "The actual number: ====>  [1]\n",
      "--------------------------------------------\n",
      "\n",
      "Test Number :  5\n",
      "Index in dataset (Randomly generated):  7482\n",
      "The networks prediction: ====>  [2]\n",
      "The actual number: ====>  [2]\n",
      "--------------------------------------------\n",
      "\n",
      "Test Number :  6\n",
      "Index in dataset (Randomly generated):  3548\n",
      "The networks prediction: ====>  [3]\n",
      "The actual number: ====>  [3]\n",
      "--------------------------------------------\n",
      "\n",
      "Test Number :  7\n",
      "Index in dataset (Randomly generated):  7960\n",
      "The networks prediction: ====>  [7]\n",
      "The actual number: ====>  [7]\n",
      "--------------------------------------------\n",
      "\n",
      "Test Number :  8\n",
      "Index in dataset (Randomly generated):  7356\n",
      "The networks prediction: ====>  [7]\n",
      "The actual number: ====>  [7]\n",
      "--------------------------------------------\n",
      "\n",
      "Test Number :  9\n",
      "Index in dataset (Randomly generated):  3223\n",
      "The networks prediction: ====>  [2]\n",
      "The actual number: ====>  [2]\n",
      "--------------------------------------------\n",
      "\n",
      "Test Number :  10\n",
      "Index in dataset (Randomly generated):  8241\n",
      "The networks prediction: ====>  [8]\n",
      "The actual number: ====>  [8]\n",
      "--------------------------------------------\n",
      "\n"
     ]
    },
    {
     "name": "stdin",
     "output_type": "stream",
     "text": [
      "\n",
      "Please Select a menu option: \n",
      "1 - Test 10 random images from the test set. \n",
      "2 - Test a given number of random images from the test set. \n",
      "3 - Retrain the neural network. \n",
      "4 - Retrain the neural network with your own epoch and batch_size values. \n",
      "5 - Upload an image to be recognised. \n",
      "-1 to exit 2\n",
      "Enter the amount of numbers you wish to test: 5\n"
     ]
    },
    {
     "name": "stdout",
     "output_type": "stream",
     "text": [
      "Test Number :  1\n",
      "Index in dataset (Randomly generated):  1011\n",
      "The networks prediction: ====>  [1]\n",
      "The actual number: ====>  [1]\n",
      "Correct!\n",
      "--------------------------------------------\n",
      "\n",
      "Test Number :  2\n",
      "Index in dataset (Randomly generated):  9352\n",
      "The networks prediction: ====>  [0]\n",
      "The actual number: ====>  [0]\n",
      "Correct!\n",
      "--------------------------------------------\n",
      "\n",
      "Test Number :  3\n",
      "Index in dataset (Randomly generated):  3611\n",
      "The networks prediction: ====>  [2]\n",
      "The actual number: ====>  [2]\n",
      "Correct!\n",
      "--------------------------------------------\n",
      "\n",
      "Test Number :  4\n",
      "Index in dataset (Randomly generated):  7098\n",
      "The networks prediction: ====>  [7]\n",
      "The actual number: ====>  [7]\n",
      "Correct!\n",
      "--------------------------------------------\n",
      "\n",
      "Test Number :  5\n",
      "Index in dataset (Randomly generated):  9068\n",
      "The networks prediction: ====>  [8]\n",
      "The actual number: ====>  [8]\n",
      "Correct!\n",
      "--------------------------------------------\n",
      "\n"
     ]
    },
    {
     "name": "stdin",
     "output_type": "stream",
     "text": [
      "\n",
      "Please Select a menu option: \n",
      "1 - Test 10 random images from the test set. \n",
      "2 - Test a given number of random images from the test set. \n",
      "3 - Retrain the neural network. \n",
      "4 - Retrain the neural network with your own epoch and batch_size values. \n",
      "5 - Upload an image to be recognised. \n",
      "-1 to exit 3\n"
     ]
    },
    {
     "name": "stdout",
     "output_type": "stream",
     "text": [
      "Epoch 1/20\n",
      "60000/60000 [==============================] - 10s 173us/step - loss: 0.2898 - acc: 0.9179\n",
      "Epoch 2/20\n",
      "60000/60000 [==============================] - 10s 169us/step - loss: 0.2881 - acc: 0.9178\n",
      "Epoch 3/20\n",
      "60000/60000 [==============================] - 10s 170us/step - loss: 0.2865 - acc: 0.9186\n",
      "Epoch 4/20\n",
      "60000/60000 [==============================] - 10s 169us/step - loss: 0.2862 - acc: 0.9181\n",
      "Epoch 5/20\n",
      "60000/60000 [==============================] - 10s 169us/step - loss: 0.2854 - acc: 0.9193\n",
      "Epoch 6/20\n",
      "60000/60000 [==============================] - 10s 170us/step - loss: 0.2849 - acc: 0.9185\n",
      "Epoch 7/20\n",
      "60000/60000 [==============================] - 10s 171us/step - loss: 0.2833 - acc: 0.9200\n",
      "Epoch 8/20\n",
      "60000/60000 [==============================] - 10s 168us/step - loss: 0.2822 - acc: 0.9204\n",
      "Epoch 9/20\n",
      "60000/60000 [==============================] - 10s 170us/step - loss: 0.2815 - acc: 0.9209\n",
      "Epoch 10/20\n",
      "60000/60000 [==============================] - 10s 168us/step - loss: 0.2814 - acc: 0.9203\n",
      "Epoch 11/20\n",
      "60000/60000 [==============================] - 10s 167us/step - loss: 0.2804 - acc: 0.9208\n",
      "Epoch 12/20\n",
      "60000/60000 [==============================] - 10s 167us/step - loss: 0.2796 - acc: 0.9215\n",
      "Epoch 13/20\n",
      "60000/60000 [==============================] - 10s 168us/step - loss: 0.2795 - acc: 0.9216\n",
      "Epoch 14/20\n",
      "60000/60000 [==============================] - 10s 167us/step - loss: 0.2787 - acc: 0.9211\n",
      "Epoch 15/20\n",
      "60000/60000 [==============================] - 10s 164us/step - loss: 0.2779 - acc: 0.9214\n",
      "Epoch 16/20\n",
      "60000/60000 [==============================] - 10s 166us/step - loss: 0.2768 - acc: 0.9224\n",
      "Epoch 17/20\n",
      "60000/60000 [==============================] - 10s 162us/step - loss: 0.2768 - acc: 0.9211\n",
      "Epoch 18/20\n",
      "60000/60000 [==============================] - 10s 164us/step - loss: 0.2765 - acc: 0.9224\n",
      "Epoch 19/20\n",
      "60000/60000 [==============================] - 10s 162us/step - loss: 0.2751 - acc: 0.9227\n",
      "Epoch 20/20\n",
      "60000/60000 [==============================] - 10s 161us/step - loss: 0.2751 - acc: 0.9225\n"
     ]
    },
    {
     "name": "stdin",
     "output_type": "stream",
     "text": [
      "\n",
      "Please Select a menu option: \n",
      "1 - Test 10 random images from the test set. \n",
      "2 - Test a given number of random images from the test set. \n",
      "3 - Retrain the neural network. \n",
      "4 - Retrain the neural network with your own epoch and batch_size values. \n",
      "5 - Upload an image to be recognised. \n",
      "-1 to exit 4\n",
      "Enter the number of iterations:  2\n",
      "Enter a Batch Size:  1000\n"
     ]
    },
    {
     "name": "stdout",
     "output_type": "stream",
     "text": [
      "Epoch 1/2\n",
      "60000/60000 [==============================] - 5s 80us/step - loss: 0.2649 - acc: 0.9266\n",
      "Epoch 2/2\n",
      "60000/60000 [==============================] - 5s 80us/step - loss: 0.2646 - acc: 0.9260\n"
     ]
    },
    {
     "name": "stdin",
     "output_type": "stream",
     "text": [
      "\n",
      "Please Select a menu option: \n",
      "1 - Test 10 random images from the test set. \n",
      "2 - Test a given number of random images from the test set. \n",
      "3 - Retrain the neural network. \n",
      "4 - Retrain the neural network with your own epoch and batch_size values. \n",
      "5 - Upload an image to be recognised. \n",
      "-1 to exit 5\n"
     ]
    },
    {
     "name": "stdout",
     "output_type": "stream",
     "text": [
      "Nerual networks prediction:  [7]\n"
     ]
    }
   ],
   "source": [
    "%run -i \"Digit-Recog.py\""
   ]
  },
  {
   "cell_type": "markdown",
   "metadata": {},
   "source": [
    "## References\n",
    "<ul>\n",
    "    <li><a href=\"https://keras.io/\">Keras Documentation</a> [1]</li>\n",
    "    <li><a href=\"https://keras.io/#getting-started-30-seconds-to-keras\">Keras Getting started</a> [2]</li>\n",
    "    <li><a href=\"http://db-blog.web.cern.ch/fr/node/98\">Neural Network Visual</a> [3]</li>\n",
    "    <li><a href=\"https://keras.io/models/sequential/\">Keras Sequential model API</a> [4]</li>\n",
    "    <li><a href=\"https://en.wikipedia.org/wiki/Tkinter\">TkInter Wiki</a> [5]</li>\n",
    "</ul>"
   ]
  }
 ],
 "metadata": {
  "kernelspec": {
   "display_name": "Python 3",
   "language": "python",
   "name": "python3"
  },
  "language_info": {
   "codemirror_mode": {
    "name": "ipython",
    "version": 3
   },
   "file_extension": ".py",
   "mimetype": "text/x-python",
   "name": "python",
   "nbconvert_exporter": "python",
   "pygments_lexer": "ipython3",
   "version": "3.6.7"
  }
 },
 "nbformat": 4,
 "nbformat_minor": 2
}
