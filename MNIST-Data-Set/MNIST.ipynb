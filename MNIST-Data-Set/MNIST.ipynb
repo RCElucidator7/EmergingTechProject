{
 "cells": [
  {
   "cell_type": "markdown",
   "metadata": {},
   "source": [
    "# MNIST Data Set\n",
    "\n",
    "The MNIST data set is a simple computer vision dataset, consisting of 28x28 pixel images of handwritten digits It has a training set of 60,000 examples, and a test set of 10,000 examples. It is a subset of a larger set available from NIST. The digits have been size-normalized and centered in a fixed-size image. "
   ]
  },
  {
   "cell_type": "markdown",
   "metadata": {},
   "source": [
    "## Reading in the Data sets\n",
    "\n",
    "To read in the MNIST data, we have to open the .gz files that they come in. To do this, we just import the gzip python library. \n",
    "\n",
    "### Reading in the images file"
   ]
  },
  {
   "cell_type": "code",
   "execution_count": 4,
   "metadata": {},
   "outputs": [],
   "source": [
    "# Adapted from: https://docs.python.org/2/library/gzip.html\n",
    "import gzip\n",
    "\n",
    "# This opens the images file which is located in our local directory and assigns the read in value to a variable\n",
    "with gzip.open('t10k-images-idx3-ubyte.gz', 'rb') as f:\n",
    "    image_content = f.read()"
   ]
  },
  {
   "cell_type": "code",
   "execution_count": 8,
   "metadata": {},
   "outputs": [
    {
     "data": {
      "text/plain": [
       "bytes"
      ]
     },
     "execution_count": 8,
     "metadata": {},
     "output_type": "execute_result"
    }
   ],
   "source": [
    "# Check the type of the data read in\n",
    "type(image_content)"
   ]
  },
  {
   "cell_type": "code",
   "execution_count": 11,
   "metadata": {},
   "outputs": [
    {
     "data": {
      "text/plain": [
       "b\"\\x00\\x00\\x08\\x03\\x00\\x00'\\x10\""
      ]
     },
     "execution_count": 11,
     "metadata": {},
     "output_type": "execute_result"
    }
   ],
   "source": [
    "# Check the values of the content between an index of 0 and 8\n",
    "image_content[0:8]"
   ]
  },
  {
   "cell_type": "markdown",
   "metadata": {},
   "source": [
    "### Reading in the labels file"
   ]
  },
  {
   "cell_type": "code",
   "execution_count": 2,
   "metadata": {},
   "outputs": [],
   "source": [
    "# Adapted from: https://docs.python.org/2/library/gzip.html\n",
    "import gzip\n",
    "\n",
    "# This opens the labels file which is located in our local directory and assigns the read in value to a variable\n",
    "with gzip.open('t10k-labels-idx1-ubyte.gz', 'rb') as f:\n",
    "    label_content = f.read()"
   ]
  },
  {
   "cell_type": "code",
   "execution_count": 37,
   "metadata": {},
   "outputs": [
    {
     "data": {
      "text/plain": [
       "bytes"
      ]
     },
     "execution_count": 37,
     "metadata": {},
     "output_type": "execute_result"
    }
   ],
   "source": [
    "# Check the type of the data read in\n",
    "type(label_content)"
   ]
  },
  {
   "cell_type": "code",
   "execution_count": 18,
   "metadata": {},
   "outputs": [
    {
     "data": {
      "text/plain": [
       "b\"\\x00\\x00\\x08\\x01\\x00\\x00'\\x10\""
      ]
     },
     "execution_count": 18,
     "metadata": {},
     "output_type": "execute_result"
    }
   ],
   "source": [
    "# Check the values of the content between an index of 0 and 8\n",
    "label_content[0:8]"
   ]
  },
  {
   "cell_type": "markdown",
   "metadata": {},
   "source": [
    "## Converting the bytes into int, and what they mean\n",
    "\n",
    "To convert the data from bytes to int, we use the int.from_bytes classmethod which is a buildin in python.\n",
    "\n",
    "The two arguments we'll be using are the bytes and the byteorder.\n",
    "\n",
    "The bytes argument must be either a byte-like object, an iterable producing bytes or hardcoded bytes.\n",
    "\n",
    "The byteorder argument determines the byte order used to represent the integer. If byteorder is \"big\", the most significant byte is at the beginning of the byte array. If byteorder is \"little\", the most significant byte is at the end of the byte array. "
   ]
  },
  {
   "cell_type": "code",
   "execution_count": 3,
   "metadata": {},
   "outputs": [
    {
     "data": {
      "text/plain": [
       "2051"
      ]
     },
     "execution_count": 3,
     "metadata": {},
     "output_type": "execute_result"
    }
   ],
   "source": [
    "# Documentation from https://docs.python.org/3/library/stdtypes.html#int.from_bytes\n",
    "# In the MNIST data set, the first 4 bytes, the \"Magic Number\", are used to determine whether the dataset is for the images or labels\n",
    "\n",
    "# Below we are converting the first 4 bytes from the image dataset, therefore the expected output should be 2051\n",
    "int.from_bytes(image_content[0:4], byteorder='big')"
   ]
  },
  {
   "cell_type": "code",
   "execution_count": 6,
   "metadata": {},
   "outputs": [
    {
     "data": {
      "text/plain": [
       "2049"
      ]
     },
     "execution_count": 6,
     "metadata": {},
     "output_type": "execute_result"
    }
   ],
   "source": [
    "# Whereas here, we are converting the first 4 bytes from the label dataset, which should output 2049\n",
    "int.from_bytes(label_content[0:4], byteorder='big')"
   ]
  },
  {
   "cell_type": "code",
   "execution_count": 5,
   "metadata": {},
   "outputs": [
    {
     "data": {
      "text/plain": [
       "10000"
      ]
     },
     "execution_count": 5,
     "metadata": {},
     "output_type": "execute_result"
    }
   ],
   "source": [
    "# The next 4 bytes after this in the dataset determine the number of items in the dataset.\n",
    "# Currently we have imported the test set, which should contain 10,000 items in both the image file and label file.\n",
    "int.from_bytes(image_content[4:8], byteorder='big')"
   ]
  },
  {
   "cell_type": "code",
   "execution_count": 7,
   "metadata": {},
   "outputs": [
    {
     "data": {
      "text/plain": [
       "10000"
      ]
     },
     "execution_count": 7,
     "metadata": {},
     "output_type": "execute_result"
    }
   ],
   "source": [
    "int.from_bytes(label_content[4:8], byteorder='big')"
   ]
  },
  {
   "cell_type": "code",
   "execution_count": 11,
   "metadata": {},
   "outputs": [
    {
     "data": {
      "text/plain": [
       "60000"
      ]
     },
     "execution_count": 11,
     "metadata": {},
     "output_type": "execute_result"
    }
   ],
   "source": [
    "# Now if we import the training set, we should have a different number of items in those two sets\n",
    "import gzip\n",
    "\n",
    "# This opens the training images file which is located in our local directory and assigns the read in value to a variable\n",
    "with gzip.open('train-images-idx3-ubyte.gz', 'rb') as f:\n",
    "    train_image_content = f.read()\n",
    "    \n",
    "# This opens the training labels file which is located in our local directory and assigns the read in value to a variable\n",
    "with gzip.open('train-labels-idx1-ubyte.gz', 'rb') as f:\n",
    "    train_label_content = f.read()\n",
    "    \n",
    "int.from_bytes(train_image_content[4:8], byteorder='big')"
   ]
  },
  {
   "cell_type": "code",
   "execution_count": 12,
   "metadata": {},
   "outputs": [
    {
     "data": {
      "text/plain": [
       "60000"
      ]
     },
     "execution_count": 12,
     "metadata": {},
     "output_type": "execute_result"
    }
   ],
   "source": [
    "int.from_bytes(train_label_content[4:8], byteorder='big')"
   ]
  },
  {
   "cell_type": "markdown",
   "metadata": {},
   "source": [
    "For the image dataset, the four next values after the 8th indicate the amount of rows for each image, and then the following four values indicate the amount of columns."
   ]
  },
  {
   "cell_type": "code",
   "execution_count": 8,
   "metadata": {},
   "outputs": [
    {
     "data": {
      "text/plain": [
       "28"
      ]
     },
     "execution_count": 8,
     "metadata": {},
     "output_type": "execute_result"
    }
   ],
   "source": [
    "int.from_bytes(image_content[8:12], byteorder='big')"
   ]
  },
  {
   "cell_type": "code",
   "execution_count": 9,
   "metadata": {},
   "outputs": [
    {
     "data": {
      "text/plain": [
       "28"
      ]
     },
     "execution_count": 9,
     "metadata": {},
     "output_type": "execute_result"
    }
   ],
   "source": [
    "int.from_bytes(image_content[12:16], byteorder='big')"
   ]
  },
  {
   "cell_type": "markdown",
   "metadata": {},
   "source": [
    "## Plotting the image\n",
    "\n",
    "To plot the images from the image dataset, we need to read them from the byte array. \n",
    "Each image in the array is stored in a 28x28 pixel grid.So, since each image has 28 by 28 pixels, we get a 28x28 array. With the 28x28 array we can determine the size of the image, and how many bytes are in the array (28x28 = 784). So every 784 bytes in the file will contain a hand written number when plotted on a graph. Also, we can use 784 as a marker so that at every 784th position, leads into the next number.\n",
    "\n",
    "With this, we can store each 28x28 2D array into an array itself.\n",
    "\n",
    "(Adapted From: http://colah.github.io/posts/2014-10-Visualizing-MNIST/)"
   ]
  },
  {
   "cell_type": "code",
   "execution_count": 11,
   "metadata": {},
   "outputs": [
    {
     "data": {
      "text/plain": [
       "<matplotlib.image.AxesImage at 0x20c6a7ba208>"
      ]
     },
     "execution_count": 11,
     "metadata": {},
     "output_type": "execute_result"
    },
    {
     "data": {
      "image/png": "[encoded data removed]",
      "text/plain": [
       "<Figure size 432x288 with 1 Axes>"
      ]
     },
     "metadata": {
      "needs_background": "light"
     },
     "output_type": "display_data"
    }
   ],
   "source": [
    "%matplotlib inline\n",
    "import matplotlib.pyplot as plt\n",
    "import numpy as np\n",
    "\n",
    "# Reads the pixel values as intergers\n",
    "parsed_img_array = np.frombuffer(image_content, dtype = np.uint8, offset = 16)\n",
    "# Stores these values into an array\n",
    "# Since we are using the test set of images, the size of the array will be 10,000\n",
    "parsed_img_array = parsed_img_array.reshape(10000, 28, 28)\n",
    "\n",
    "# Old method\n",
    "#image = ~np.array(list(image_content[16:800])).reshape(28,28).astype(np.uint8)\n",
    "\n",
    "# Plot the image at the first position of the array, which itself is a 28x28 array containing out number\n",
    "plt.imshow(parsed_img_array[0], cmap=\"binary\")"
   ]
  },
  {
   "cell_type": "code",
   "execution_count": 5,
   "metadata": {},
   "outputs": [
    {
     "data": {
      "text/plain": [
       "<matplotlib.image.AxesImage at 0x1e0b4259828>"
      ]
     },
     "execution_count": 5,
     "metadata": {},
     "output_type": "execute_result"
    },
    {
     "data": {
      "image/png": "[encoded data removed]",
      "text/plain": [
       "<Figure size 432x288 with 1 Axes>"
      ]
     },
     "metadata": {
      "needs_background": "light"
     },
     "output_type": "display_data"
    }
   ],
   "source": [
    "# Plot the image at the last position of the array\n",
    "plt.imshow(parsed_img_array[9999], cmap=\"binary\")"
   ]
  },
  {
   "cell_type": "markdown",
   "metadata": {},
   "source": [
    "## Label array\n",
    "\n",
    "Now that we have out array of images, we need to make an array of values that indicate a label of the image.\n",
    "Again, the bytes of the first 4 values indicate an identifier to show that it is the data set for the labels, as seen above. The next 4 values indicate the amount of items in the array also seen above. So to get the label values we have to store all the values in the dataset from the 8th to the size of the dataset. \n",
    "Unlike the image dataset, the data following the 8th in the label dataset contains the labels for each image in the order they are read in."
   ]
  },
  {
   "cell_type": "code",
   "execution_count": null,
   "metadata": {},
   "outputs": [],
   "source": [
    "# Reads the pixel values as intergers\n",
    "# Stores these values into an array\n",
    "parsed_lab_array = np.frombuffer(label_content, dtype = np.uint8, offset = 8)\n",
    "\n",
    "#Print the value at the first index of the array\n",
    "print(parsed_lab_array[0])"
   ]
  },
  {
   "cell_type": "code",
   "execution_count": 16,
   "metadata": {},
   "outputs": [
    {
     "name": "stdout",
     "output_type": "stream",
     "text": [
      "8\n"
     ]
    },
    {
     "data": {
      "image/png": "[encoded data removed]",
      "text/plain": [
       "<Figure size 432x288 with 1 Axes>"
      ]
     },
     "metadata": {
      "needs_background": "light"
     },
     "output_type": "display_data"
    }
   ],
   "source": [
    "plt.imshow(parsed_img_array[84], cmap=\"binary\")\n",
    "print(parsed_lab_array[84])"
   ]
  },
  {
   "cell_type": "markdown",
   "metadata": {},
   "source": [
    "## Saving the images with its position and label\n",
    "\n",
    "To save these images, we loop through all the values in the image and label array, and save each image throughout every loop. We save these files with the name of the set they came from, the position in the array, and the label value."
   ]
  },
  {
   "cell_type": "code",
   "execution_count": 25,
   "metadata": {},
   "outputs": [
    {
     "data": {
      "image/png": "[encoded data removed]",
      "text/plain": [
       "<Figure size 432x288 with 1 Axes>"
      ]
     },
     "metadata": {
      "needs_background": "light"
     },
     "output_type": "display_data"
    }
   ],
   "source": [
    "# A loop to save all of the individual numbers into a their own png file\n",
    "# NOTE: I used a range of 5 as if I were to use the length of the array it would save 10,000 files in this directory, which may bring harm\n",
    "# to your device\n",
    "for x in range(5):\n",
    "    plt.imshow(parsed_img_array[x], cmap=\"binary\")\n",
    "    plt.savefig('t10k-id' + str(x+1) + '-' + str(parsed_lab_array[x]) + '-ubyte')"
   ]
  },
  {
   "cell_type": "code",
   "execution_count": null,
   "metadata": {},
   "outputs": [],
   "source": []
  }
 ],
 "metadata": {
  "kernelspec": {
   "display_name": "Python 3",
   "language": "python",
   "name": "python3"
  },
  "language_info": {
   "codemirror_mode": {
    "name": "ipython",
    "version": 3
   },
   "file_extension": ".py",
   "mimetype": "text/x-python",
   "name": "python",
   "nbconvert_exporter": "python",
   "pygments_lexer": "ipython3",
   "version": "3.7.0"
  }
 },
 "nbformat": 4,
 "nbformat_minor": 2
}
